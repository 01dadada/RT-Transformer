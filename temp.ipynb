{
 "cells": [
  {
   "cell_type": "code",
   "execution_count": 1,
   "metadata": {
    "collapsed": true
   },
   "outputs": [],
   "source": [
    "import gc\n",
    "from torch.utils.data import random_split\n",
    "from torch_geometric.loader import DataLoader\n",
    "from typing import Iterable\n",
    "import random\n",
    "import warnings\n",
    "from transferDataset import TransferDataset\n",
    "from sklearn.metrics import r2_score\n",
    "import torchmetrics\n",
    "import torch\n",
    "import numpy as np\n",
    "from tqdm import tqdm\n",
    "import os"
   ]
  },
  {
   "cell_type": "code",
   "execution_count": 2,
   "metadata": {
    "collapsed": false,
    "pycharm": {
     "name": "#%%\n"
    }
   },
   "outputs": [
    {
     "data": {
      "text/plain": [
       "'./compare/Eawag_XBridgeC18'"
      ]
     },
     "execution_count": 2,
     "metadata": {},
     "output_type": "execute_result"
    }
   ],
   "source": [
    "path = './compare'\n",
    "# path = './compare'\n",
    "listdir = os.listdir(path)\n",
    "\n",
    "listdir.sort()\n",
    "join = os.path.join(path, listdir[0]).split('.csv')[0]\n",
    "join"
   ]
  },
  {
   "cell_type": "code",
   "execution_count": 3,
   "metadata": {
    "collapsed": false,
    "pycharm": {
     "name": "#%%\n"
    }
   },
   "outputs": [
    {
     "name": "stdout",
     "output_type": "stream",
     "text": [
      "./compare/Eawag_XBridgeC18\n"
     ]
    }
   ],
   "source": [
    "dataset = TransferDataset(join)\n",
    "print(join)\n",
    "dataset_name = join.split('/')[2]"
   ]
  },
  {
   "cell_type": "code",
   "execution_count": 5,
   "metadata": {
    "collapsed": false,
    "pycharm": {
     "name": "#%%\n"
    }
   },
   "outputs": [],
   "source": [
    "def set_seed(seed):\n",
    "    random.seed(seed)\n",
    "    os.environ['PYTHONHASHSEED'] = str(seed)\n",
    "    np.random.seed(seed)\n",
    "    torch.manual_seed(seed)\n",
    "    torch.cuda.manual_seed(seed)\n",
    "    torch.cuda.manual_seed_all(seed)\n",
    "\n",
    "\n",
    "kfold = 10\n",
    "seed = 1234\n",
    "\n",
    "fold_size = len(dataset) // kfold\n",
    "fold_reminder = len(dataset) % kfold\n",
    "split_list = [fold_size] * kfold\n",
    "for reminder in range(fold_reminder):\n",
    "    split_list[reminder] = split_list[reminder] + 1\n",
    "set_seed(seed)\n",
    "split = random_split(dataset, split_list)\n",
    "for fold in range(kfold):\n",
    "    best_train_mae = 99999\n",
    "    best_test_mae = 99999\n",
    "    set_seed(seed)\n",
    "fold = 0"
   ]
  },
  {
   "cell_type": "code",
   "execution_count": 6,
   "metadata": {
    "collapsed": false,
    "pycharm": {
     "name": "#%%\n"
    }
   },
   "outputs": [],
   "source": [
    "model = torch.load(f'./models/{dataset_name}/fold{fold}.pkl')"
   ]
  },
  {
   "cell_type": "code",
   "execution_count": 8,
   "metadata": {
    "collapsed": false,
    "pycharm": {
     "name": "#%%\n"
    }
   },
   "outputs": [],
   "source": [
    "test_dataset = split[fold]\n",
    "train_list = []\n",
    "for m in range(kfold):\n",
    "    if m != fold:\n",
    "        train_list.append(split[m])\n",
    "train_dataset = torch.utils.data.ConcatDataset(train_list)\n",
    "\n",
    "test_loader = DataLoader(test_dataset, batch_size=1, shuffle=True,\n",
    "                         num_workers=2, pin_memory=True,\n",
    "                         prefetch_factor=2, drop_last=True, persistent_workers=True, )\n",
    "test_loader = list(test_loader)"
   ]
  },
  {
   "cell_type": "code",
   "execution_count": 9,
   "metadata": {
    "collapsed": false,
    "pycharm": {
     "name": "#%%\n"
    }
   },
   "outputs": [
    {
     "data": {
      "text/plain": [
       "DataBatch(x=[28, 34], edge_index=[2, 56], edge_attr=[56, 5], y=[1], fingerprint=[2048], inchi=[1], formula=[1], batch=[28], ptr=[2])"
      ]
     },
     "execution_count": 9,
     "metadata": {},
     "output_type": "execute_result"
    }
   ],
   "source": [
    "test_loader[0]"
   ]
  },
  {
   "cell_type": "code",
   "execution_count": 10,
   "metadata": {
    "collapsed": false,
    "pycharm": {
     "name": "#%%\n"
    }
   },
   "outputs": [
    {
     "data": {
      "text/plain": [
       "['InChI=1S/C8H14ClN5/c1-4-10-7-12-6(9)13-8(14-7)11-5(2)3/h5H,4H2,1-3H3,(H2,10,11,12,13,14)']"
      ]
     },
     "execution_count": 10,
     "metadata": {},
     "output_type": "execute_result"
    }
   ],
   "source": [
    "data = test_loader[0]\n",
    "data.inchi"
   ]
  },
  {
   "cell_type": "code",
   "execution_count": 13,
   "metadata": {
    "collapsed": false,
    "pycharm": {
     "name": "#%%\n"
    }
   },
   "outputs": [],
   "source": [
    "formula = data.formula[0]"
   ]
  },
  {
   "cell_type": "code",
   "execution_count": 14,
   "metadata": {
    "collapsed": false,
    "pycharm": {
     "name": "#%%\n"
    }
   },
   "outputs": [
    {
     "data": {
      "text/plain": [
       "'search_5_datasets/C8H14ClN5.csv'"
      ]
     },
     "execution_count": 14,
     "metadata": {},
     "output_type": "execute_result"
    }
   ],
   "source": [
    "f'search_5_datasets/{formula}.csv'"
   ]
  },
  {
   "cell_type": "code",
   "execution_count": 17,
   "metadata": {
    "collapsed": false,
    "pycharm": {
     "name": "#%%\n"
    }
   },
   "outputs": [
    {
     "data": {
      "text/plain": [
       "True"
      ]
     },
     "execution_count": 17,
     "metadata": {},
     "output_type": "execute_result"
    }
   ],
   "source": [
    "next_data_path = f'search_5_datasets/{formula}.csv'\n",
    "os.path.exists(f'search_5_datasets/{formula}.csv')"
   ]
  },
  {
   "cell_type": "code",
   "execution_count": 20,
   "metadata": {
    "collapsed": false,
    "pycharm": {
     "name": "#%%\n"
    }
   },
   "outputs": [
    {
     "name": "stderr",
     "output_type": "stream",
     "text": [
      "Processing...\n",
      "/home/jun/projects/multiGPU/transferDataset.py:219: UserWarning: torch.range is deprecated and will be removed in a future release because its behavior is inconsistent with Python's range builtin. Instead, use torch.arange, which produces values in [start, end).\n",
      "  hybridization_encoder.fit(torch.range(0, len(hybridization_list) - 1).unsqueeze(-1))\n",
      "/home/jun/projects/multiGPU/transferDataset.py:223: UserWarning: torch.range is deprecated and will be removed in a future release because its behavior is inconsistent with Python's range builtin. Instead, use torch.arange, which produces values in [start, end).\n",
      "  atom_encoder.fit(torch.range(0, len(atom_list) - 1).unsqueeze(-1))\n",
      "/home/jun/projects/multiGPU/transferDataset.py:226: UserWarning: torch.range is deprecated and will be removed in a future release because its behavior is inconsistent with Python's range builtin. Instead, use torch.arange, which produces values in [start, end).\n",
      "  chirarity_encoder.fit(torch.range(0, len(CHIRALITY_LIST) - 1).unsqueeze(-1))\n",
      "Done!\n"
     ]
    }
   ],
   "source": [
    "from transferDataset import PredictionDataset\n",
    "\n",
    "predict_dataset = PredictionDataset(f'search_5_datasets/{formula}')"
   ]
  },
  {
   "cell_type": "code",
   "execution_count": 21,
   "metadata": {
    "collapsed": false,
    "pycharm": {
     "name": "#%%\n"
    }
   },
   "outputs": [
    {
     "data": {
      "text/plain": [
       "MyNet(\n",
       "  (in_linear): Linear(in_features=34, out_features=512, bias=True)\n",
       "  (conv1): GraphTransformerBlock(\n",
       "    (conv): GATConv(512, 512, heads=3)\n",
       "    (linear): Linear(in_features=1536, out_features=512, bias=True)\n",
       "    (layerNorm): LayerNorm((512,), eps=1e-05, elementwise_affine=True)\n",
       "  )\n",
       "  (conv2): GraphTransformerBlock(\n",
       "    (conv): GATConv(512, 512, heads=3)\n",
       "    (linear): Linear(in_features=1536, out_features=512, bias=True)\n",
       "    (layerNorm): LayerNorm((512,), eps=1e-05, elementwise_affine=True)\n",
       "  )\n",
       "  (conv3): GraphTransformerBlock(\n",
       "    (conv): GATConv(512, 512, heads=3)\n",
       "    (linear): Linear(in_features=1536, out_features=512, bias=True)\n",
       "    (layerNorm): LayerNorm((512,), eps=1e-05, elementwise_affine=True)\n",
       "  )\n",
       "  (conv4): GraphTransformerBlock(\n",
       "    (conv): GATConv(512, 512, heads=3)\n",
       "    (linear): Linear(in_features=1536, out_features=512, bias=True)\n",
       "    (layerNorm): LayerNorm((512,), eps=1e-05, elementwise_affine=True)\n",
       "  )\n",
       "  (conv5): GraphTransformerBlock(\n",
       "    (conv): GATConv(512, 512, heads=3)\n",
       "    (linear): Linear(in_features=1536, out_features=512, bias=True)\n",
       "    (layerNorm): LayerNorm((512,), eps=1e-05, elementwise_affine=True)\n",
       "  )\n",
       "  (conv6): GraphTransformerBlock(\n",
       "    (conv): GATConv(512, 512, heads=3)\n",
       "    (linear): Linear(in_features=1536, out_features=512, bias=True)\n",
       "    (layerNorm): LayerNorm((512,), eps=1e-05, elementwise_affine=True)\n",
       "  )\n",
       "  (conv7): GraphTransformerBlock(\n",
       "    (conv): GATConv(512, 512, heads=3)\n",
       "    (linear): Linear(in_features=1536, out_features=512, bias=True)\n",
       "    (layerNorm): LayerNorm((512,), eps=1e-05, elementwise_affine=True)\n",
       "  )\n",
       "  (conv8): GraphTransformerBlock(\n",
       "    (conv): GATConv(512, 512, heads=3)\n",
       "    (linear): Linear(in_features=1536, out_features=512, bias=True)\n",
       "    (layerNorm): LayerNorm((512,), eps=1e-05, elementwise_affine=True)\n",
       "  )\n",
       "  (conv9): GraphTransformerBlock(\n",
       "    (conv): GATConv(512, 512, heads=3)\n",
       "    (linear): Linear(in_features=1536, out_features=512, bias=True)\n",
       "    (layerNorm): LayerNorm((512,), eps=1e-05, elementwise_affine=True)\n",
       "  )\n",
       "  (feat_lin): Linear(in_features=512, out_features=512, bias=True)\n",
       "  (out_lin): Sequential(\n",
       "    (0): Linear(in_features=512, out_features=64, bias=True)\n",
       "    (1): ReLU(inplace=True)\n",
       "    (2): Linear(in_features=64, out_features=8, bias=True)\n",
       "    (3): ReLU(inplace=True)\n",
       "    (4): Linear(in_features=8, out_features=1, bias=True)\n",
       "  )\n",
       "  (conv1d1): OneDimConvBlock(\n",
       "    (attention_conv): OneDimAttention(\n",
       "      (linear): Linear(in_features=2048, out_features=2048, bias=True)\n",
       "    )\n",
       "    (batchnorm1): BatchNorm1d(2048, eps=1e-05, momentum=0.1, affine=True, track_running_stats=True)\n",
       "    (batchnorm2): BatchNorm1d(2048, eps=1e-05, momentum=0.1, affine=True, track_running_stats=True)\n",
       "    (linear1): Linear(in_features=2048, out_features=2048, bias=True)\n",
       "    (linear2): Linear(in_features=2048, out_features=2048, bias=True)\n",
       "    (ffn): Sequential(\n",
       "      (0): Linear(in_features=2048, out_features=2048, bias=True)\n",
       "      (1): ReLU()\n",
       "      (2): Linear(in_features=2048, out_features=2048, bias=True)\n",
       "      (3): ReLU()\n",
       "    )\n",
       "  )\n",
       "  (conv1d2): OneDimConvBlock(\n",
       "    (attention_conv): OneDimAttention(\n",
       "      (linear): Linear(in_features=2048, out_features=2048, bias=True)\n",
       "    )\n",
       "    (batchnorm1): BatchNorm1d(2048, eps=1e-05, momentum=0.1, affine=True, track_running_stats=True)\n",
       "    (batchnorm2): BatchNorm1d(2048, eps=1e-05, momentum=0.1, affine=True, track_running_stats=True)\n",
       "    (linear1): Linear(in_features=2048, out_features=2048, bias=True)\n",
       "    (linear2): Linear(in_features=2048, out_features=2048, bias=True)\n",
       "    (ffn): Sequential(\n",
       "      (0): Linear(in_features=2048, out_features=2048, bias=True)\n",
       "      (1): ReLU()\n",
       "      (2): Linear(in_features=2048, out_features=2048, bias=True)\n",
       "      (3): ReLU()\n",
       "    )\n",
       "  )\n",
       "  (conv1d3): OneDimConvBlock(\n",
       "    (attention_conv): OneDimAttention(\n",
       "      (linear): Linear(in_features=2048, out_features=2048, bias=True)\n",
       "    )\n",
       "    (batchnorm1): BatchNorm1d(2048, eps=1e-05, momentum=0.1, affine=True, track_running_stats=True)\n",
       "    (batchnorm2): BatchNorm1d(2048, eps=1e-05, momentum=0.1, affine=True, track_running_stats=True)\n",
       "    (linear1): Linear(in_features=2048, out_features=2048, bias=True)\n",
       "    (linear2): Linear(in_features=2048, out_features=2048, bias=True)\n",
       "    (ffn): Sequential(\n",
       "      (0): Linear(in_features=2048, out_features=2048, bias=True)\n",
       "      (1): ReLU()\n",
       "      (2): Linear(in_features=2048, out_features=2048, bias=True)\n",
       "      (3): ReLU()\n",
       "    )\n",
       "  )\n",
       "  (conv1d4): OneDimConvBlock(\n",
       "    (attention_conv): OneDimAttention(\n",
       "      (linear): Linear(in_features=2048, out_features=2048, bias=True)\n",
       "    )\n",
       "    (batchnorm1): BatchNorm1d(2048, eps=1e-05, momentum=0.1, affine=True, track_running_stats=True)\n",
       "    (batchnorm2): BatchNorm1d(2048, eps=1e-05, momentum=0.1, affine=True, track_running_stats=True)\n",
       "    (linear1): Linear(in_features=2048, out_features=2048, bias=True)\n",
       "    (linear2): Linear(in_features=2048, out_features=2048, bias=True)\n",
       "    (ffn): Sequential(\n",
       "      (0): Linear(in_features=2048, out_features=2048, bias=True)\n",
       "      (1): ReLU()\n",
       "      (2): Linear(in_features=2048, out_features=2048, bias=True)\n",
       "      (3): ReLU()\n",
       "    )\n",
       "  )\n",
       "  (conv1d5): OneDimConvBlock(\n",
       "    (attention_conv): OneDimAttention(\n",
       "      (linear): Linear(in_features=2048, out_features=2048, bias=True)\n",
       "    )\n",
       "    (batchnorm1): BatchNorm1d(2048, eps=1e-05, momentum=0.1, affine=True, track_running_stats=True)\n",
       "    (batchnorm2): BatchNorm1d(2048, eps=1e-05, momentum=0.1, affine=True, track_running_stats=True)\n",
       "    (linear1): Linear(in_features=2048, out_features=2048, bias=True)\n",
       "    (linear2): Linear(in_features=2048, out_features=2048, bias=True)\n",
       "    (ffn): Sequential(\n",
       "      (0): Linear(in_features=2048, out_features=2048, bias=True)\n",
       "      (1): ReLU()\n",
       "      (2): Linear(in_features=2048, out_features=2048, bias=True)\n",
       "      (3): ReLU()\n",
       "    )\n",
       "  )\n",
       "  (conv1d6): OneDimConvBlock(\n",
       "    (attention_conv): OneDimAttention(\n",
       "      (linear): Linear(in_features=2048, out_features=2048, bias=True)\n",
       "    )\n",
       "    (batchnorm1): BatchNorm1d(2048, eps=1e-05, momentum=0.1, affine=True, track_running_stats=True)\n",
       "    (batchnorm2): BatchNorm1d(2048, eps=1e-05, momentum=0.1, affine=True, track_running_stats=True)\n",
       "    (linear1): Linear(in_features=2048, out_features=2048, bias=True)\n",
       "    (linear2): Linear(in_features=2048, out_features=2048, bias=True)\n",
       "    (ffn): Sequential(\n",
       "      (0): Linear(in_features=2048, out_features=2048, bias=True)\n",
       "      (1): ReLU()\n",
       "      (2): Linear(in_features=2048, out_features=2048, bias=True)\n",
       "      (3): ReLU()\n",
       "    )\n",
       "  )\n",
       "  (conv1d7): OneDimConvBlock(\n",
       "    (attention_conv): OneDimAttention(\n",
       "      (linear): Linear(in_features=2048, out_features=2048, bias=True)\n",
       "    )\n",
       "    (batchnorm1): BatchNorm1d(2048, eps=1e-05, momentum=0.1, affine=True, track_running_stats=True)\n",
       "    (batchnorm2): BatchNorm1d(2048, eps=1e-05, momentum=0.1, affine=True, track_running_stats=True)\n",
       "    (linear1): Linear(in_features=2048, out_features=2048, bias=True)\n",
       "    (linear2): Linear(in_features=2048, out_features=2048, bias=True)\n",
       "    (ffn): Sequential(\n",
       "      (0): Linear(in_features=2048, out_features=2048, bias=True)\n",
       "      (1): ReLU()\n",
       "      (2): Linear(in_features=2048, out_features=2048, bias=True)\n",
       "      (3): ReLU()\n",
       "    )\n",
       "  )\n",
       "  (conv1d8): OneDimConvBlock(\n",
       "    (attention_conv): OneDimAttention(\n",
       "      (linear): Linear(in_features=2048, out_features=2048, bias=True)\n",
       "    )\n",
       "    (batchnorm1): BatchNorm1d(2048, eps=1e-05, momentum=0.1, affine=True, track_running_stats=True)\n",
       "    (batchnorm2): BatchNorm1d(2048, eps=1e-05, momentum=0.1, affine=True, track_running_stats=True)\n",
       "    (linear1): Linear(in_features=2048, out_features=2048, bias=True)\n",
       "    (linear2): Linear(in_features=2048, out_features=2048, bias=True)\n",
       "    (ffn): Sequential(\n",
       "      (0): Linear(in_features=2048, out_features=2048, bias=True)\n",
       "      (1): ReLU()\n",
       "      (2): Linear(in_features=2048, out_features=2048, bias=True)\n",
       "      (3): ReLU()\n",
       "    )\n",
       "  )\n",
       "  (conv1d9): OneDimConvBlock(\n",
       "    (attention_conv): OneDimAttention(\n",
       "      (linear): Linear(in_features=2048, out_features=2048, bias=True)\n",
       "    )\n",
       "    (batchnorm1): BatchNorm1d(2048, eps=1e-05, momentum=0.1, affine=True, track_running_stats=True)\n",
       "    (batchnorm2): BatchNorm1d(2048, eps=1e-05, momentum=0.1, affine=True, track_running_stats=True)\n",
       "    (linear1): Linear(in_features=2048, out_features=2048, bias=True)\n",
       "    (linear2): Linear(in_features=2048, out_features=2048, bias=True)\n",
       "    (ffn): Sequential(\n",
       "      (0): Linear(in_features=2048, out_features=2048, bias=True)\n",
       "      (1): ReLU()\n",
       "      (2): Linear(in_features=2048, out_features=2048, bias=True)\n",
       "      (3): ReLU()\n",
       "    )\n",
       "  )\n",
       "  (conv1d10): OneDimConvBlock(\n",
       "    (attention_conv): OneDimAttention(\n",
       "      (linear): Linear(in_features=2048, out_features=2048, bias=True)\n",
       "    )\n",
       "    (batchnorm1): BatchNorm1d(2048, eps=1e-05, momentum=0.1, affine=True, track_running_stats=True)\n",
       "    (batchnorm2): BatchNorm1d(2048, eps=1e-05, momentum=0.1, affine=True, track_running_stats=True)\n",
       "    (linear1): Linear(in_features=2048, out_features=2048, bias=True)\n",
       "    (linear2): Linear(in_features=2048, out_features=2048, bias=True)\n",
       "    (ffn): Sequential(\n",
       "      (0): Linear(in_features=2048, out_features=2048, bias=True)\n",
       "      (1): ReLU()\n",
       "      (2): Linear(in_features=2048, out_features=2048, bias=True)\n",
       "      (3): ReLU()\n",
       "    )\n",
       "  )\n",
       "  (conv1d11): OneDimConvBlock(\n",
       "    (attention_conv): OneDimAttention(\n",
       "      (linear): Linear(in_features=2048, out_features=2048, bias=True)\n",
       "    )\n",
       "    (batchnorm1): BatchNorm1d(2048, eps=1e-05, momentum=0.1, affine=True, track_running_stats=True)\n",
       "    (batchnorm2): BatchNorm1d(2048, eps=1e-05, momentum=0.1, affine=True, track_running_stats=True)\n",
       "    (linear1): Linear(in_features=2048, out_features=2048, bias=True)\n",
       "    (linear2): Linear(in_features=2048, out_features=2048, bias=True)\n",
       "    (ffn): Sequential(\n",
       "      (0): Linear(in_features=2048, out_features=2048, bias=True)\n",
       "      (1): ReLU()\n",
       "      (2): Linear(in_features=2048, out_features=2048, bias=True)\n",
       "      (3): ReLU()\n",
       "    )\n",
       "  )\n",
       "  (conv1d12): OneDimConvBlock(\n",
       "    (attention_conv): OneDimAttention(\n",
       "      (linear): Linear(in_features=2048, out_features=2048, bias=True)\n",
       "    )\n",
       "    (batchnorm1): BatchNorm1d(2048, eps=1e-05, momentum=0.1, affine=True, track_running_stats=True)\n",
       "    (batchnorm2): BatchNorm1d(2048, eps=1e-05, momentum=0.1, affine=True, track_running_stats=True)\n",
       "    (linear1): Linear(in_features=2048, out_features=2048, bias=True)\n",
       "    (linear2): Linear(in_features=2048, out_features=2048, bias=True)\n",
       "    (ffn): Sequential(\n",
       "      (0): Linear(in_features=2048, out_features=2048, bias=True)\n",
       "      (1): ReLU()\n",
       "      (2): Linear(in_features=2048, out_features=2048, bias=True)\n",
       "      (3): ReLU()\n",
       "    )\n",
       "  )\n",
       "  (preconcat1): Linear(in_features=2048, out_features=1024, bias=True)\n",
       "  (preconcat2): Linear(in_features=1024, out_features=512, bias=True)\n",
       "  (afterconcat1): Linear(in_features=1024, out_features=512, bias=True)\n",
       "  (after_cat_drop): Dropout(p=0, inplace=False)\n",
       ")"
      ]
     },
     "execution_count": 21,
     "metadata": {},
     "output_type": "execute_result"
    }
   ],
   "source": [
    "model.eval()"
   ]
  },
  {
   "cell_type": "code",
   "execution_count": 30,
   "metadata": {
    "collapsed": false,
    "pycharm": {
     "name": "#%%\n"
    }
   },
   "outputs": [],
   "source": [
    "predict_loader = DataLoader(predict_dataset, batch_size=1024, shuffle=True,\n",
    "                            num_workers=2, pin_memory=True,\n",
    "                            prefetch_factor=2, persistent_workers=True, )"
   ]
  },
  {
   "cell_type": "code",
   "execution_count": 31,
   "metadata": {
    "collapsed": false,
    "pycharm": {
     "name": "#%%\n"
    }
   },
   "outputs": [],
   "source": [
    "for pred_data in predict_loader:\n",
    "    pass"
   ]
  },
  {
   "cell_type": "code",
   "execution_count": 32,
   "metadata": {
    "collapsed": false,
    "pycharm": {
     "name": "#%%\n"
    }
   },
   "outputs": [
    {
     "data": {
      "text/plain": [
       "DataBatch(x=[4928, 34], edge_index=[2, 9946], edge_attr=[9946, 5], fingerprint=[360448], inchi=[176], batch=[4928], ptr=[177])"
      ]
     },
     "execution_count": 32,
     "metadata": {},
     "output_type": "execute_result"
    }
   ],
   "source": [
    "pred_data"
   ]
  },
  {
   "cell_type": "code",
   "execution_count": 33,
   "metadata": {
    "collapsed": false,
    "pycharm": {
     "name": "#%%\n"
    }
   },
   "outputs": [
    {
     "data": {
      "text/plain": [
       "tensor([335.3817, 306.4652, 216.0673, 238.3221, 518.3769, 204.0869, 536.5920,\n",
       "        127.9471, 555.7635, 474.3678, 495.4148, 156.3196, 294.4536, 239.6917,\n",
       "        226.2868, 556.6192, 139.2700, 390.4460, 290.1817, 484.7779, 450.2365,\n",
       "        300.8079, 454.6169, 531.6185, 510.3573, 326.6182, 221.3356, 115.5481,\n",
       "        227.7112, 390.0638, 387.7846, 441.9623, 556.9523, 131.7753, 394.9728,\n",
       "        378.1610, 508.7184, 218.6313,  77.9734, 383.0794, 400.7393, 516.5687,\n",
       "        136.4600, 441.3495, 488.0632, 442.9339,  76.6999, 241.1502, 259.8111,\n",
       "        312.1990, 385.0972, 240.5607, 297.4230, 133.1615, 294.1974, 381.9258,\n",
       "         75.0953, 517.6558, 199.3933, 552.7399, 510.9384, 489.2650, 513.9898,\n",
       "        260.5828, 446.1741, 182.8530, 109.2841, 496.6371, 429.3144, 133.8186,\n",
       "        533.1366, 604.9606, 506.5281, 492.3094, 535.4645, 517.7291, 316.4485,\n",
       "        223.0589, 216.0197, 463.3930,  75.7677, 242.7956, 340.2125, 104.8407,\n",
       "        396.6420,  72.9419, 183.2796, 149.3518, 358.1777,  78.0312,  74.4861,\n",
       "        441.2587, 142.2008, 464.6038, 299.5866, 411.5748, 177.1779, 440.8069,\n",
       "         91.3705, 313.2083, 133.5128, 573.6353, 245.8305, 532.9470, 242.8148,\n",
       "        562.8175, 256.9628, 235.2893, 395.8980, 395.9374, 534.4266,  75.4340,\n",
       "        226.8741, 212.8584, 565.6339, 327.7162, 469.4348, 376.7610, 452.2310,\n",
       "        254.3477, 219.6111, 233.5817, 521.4453, 509.5519, 476.3730, 544.5106,\n",
       "        362.0446,  75.4136, 435.3531,  78.6537, 348.9698, 431.6138, 577.4647,\n",
       "        438.7234, 284.4107, 232.7374, 536.4506, 340.4062, 505.1862, 231.1312,\n",
       "        357.6437, 145.1156, 551.2177, 109.5290, 560.8506, 314.4407, 553.3859,\n",
       "        302.9691, 504.5564, 476.2824, 242.9942, 503.3685, 361.7743, 269.4893,\n",
       "        388.8706, 233.4544, 199.1184, 483.1900,  75.9805, 208.4884, 446.6045,\n",
       "         73.5363, 383.9255, 147.0168, 250.1066, 474.9681, 203.5755, 302.0118,\n",
       "        478.8323, 140.2890, 495.2498, 486.1485, 237.0857,  94.2271, 516.9864,\n",
       "        237.5596], device='cuda:0', grad_fn=<SqueezeBackward0>)"
      ]
     },
     "execution_count": 33,
     "metadata": {},
     "output_type": "execute_result"
    }
   ],
   "source": [
    "model.eval()\n",
    "device = torch.device('cuda' if torch.cuda.is_available() else 'cpu')\n",
    "pred_data.to(device)\n",
    "pred = model(pred_data)\n",
    "pred"
   ]
  },
  {
   "cell_type": "code",
   "execution_count": 35,
   "metadata": {
    "collapsed": false,
    "pycharm": {
     "name": "#%%\n"
    }
   },
   "outputs": [
    {
     "data": {
      "text/plain": [
       "torch.Size([176])"
      ]
     },
     "execution_count": 35,
     "metadata": {},
     "output_type": "execute_result"
    }
   ],
   "source": [
    "pred.reshape(-1)"
   ]
  },
  {
   "cell_type": "code",
   "execution_count": 36,
   "metadata": {
    "collapsed": false,
    "pycharm": {
     "name": "#%%\n"
    }
   },
   "outputs": [
    {
     "data": {
      "text/plain": [
       "range(0, 176)"
      ]
     },
     "execution_count": 36,
     "metadata": {},
     "output_type": "execute_result"
    }
   ],
   "source": [
    "range(len(pred.reshape(-1)))"
   ]
  },
  {
   "cell_type": "code",
   "execution_count": 47,
   "metadata": {
    "collapsed": false,
    "pycharm": {
     "name": "#%%\n"
    }
   },
   "outputs": [
    {
     "name": "stderr",
     "output_type": "stream",
     "text": [
      "100%|█████████████████████████████████████████████████████████████████████████████████████████████████████████████████████████████████████| 37/37 [04:55<00:00,  7.98s/it]\n",
      " 76%|████████████████████████████████████████████████████████████████████████████████████████████████████▋                                | 28/37 [05:07<01:38, 10.96s/it]\n"
     ]
    },
    {
     "ename": "KeyboardInterrupt",
     "evalue": "",
     "output_type": "error",
     "traceback": [
      "\u001b[0;31m---------------------------------------------------------------------------\u001b[0m",
      "\u001b[0;31mKeyboardInterrupt\u001b[0m                         Traceback (most recent call last)",
      "Cell \u001b[0;32mIn [47], line 42\u001b[0m\n\u001b[1;32m     36\u001b[0m                 pred_rt \u001b[38;5;241m=\u001b[39m reshape[i]\n\u001b[1;32m     37\u001b[0m                 inchi \u001b[38;5;241m=\u001b[39m data_for_pred[i]\u001b[38;5;241m.\u001b[39minchi\n\u001b[1;32m     38\u001b[0m                 frame\u001b[38;5;241m.\u001b[39mloc[frame_index] \u001b[38;5;241m=\u001b[39m {\n\u001b[1;32m     39\u001b[0m                                         \u001b[38;5;124m'\u001b[39m\u001b[38;5;124minchi_true\u001b[39m\u001b[38;5;124m'\u001b[39m:inchi_true,\n\u001b[1;32m     40\u001b[0m                                         \u001b[38;5;124m'\u001b[39m\u001b[38;5;124mrt_true\u001b[39m\u001b[38;5;124m'\u001b[39m:rt_true,\n\u001b[1;32m     41\u001b[0m                                         \u001b[38;5;124m'\u001b[39m\u001b[38;5;124minchi\u001b[39m\u001b[38;5;124m'\u001b[39m:inchi,\n\u001b[0;32m---> 42\u001b[0m                                         \u001b[38;5;124m'\u001b[39m\u001b[38;5;124mrt_pred\u001b[39m\u001b[38;5;124m'\u001b[39m:\u001b[43mpred_rt\u001b[49m\u001b[38;5;241;43m.\u001b[39;49m\u001b[43mcpu\u001b[49m\u001b[43m(\u001b[49m\u001b[43m)\u001b[49m\u001b[38;5;241m.\u001b[39mitem()\n\u001b[1;32m     43\u001b[0m                                 }\n\u001b[1;32m     44\u001b[0m                 frame_index \u001b[38;5;241m=\u001b[39m frame_index\u001b[38;5;241m+\u001b[39m\u001b[38;5;241m1\u001b[39m\n\u001b[1;32m     45\u001b[0m frame\n",
      "\u001b[0;31mKeyboardInterrupt\u001b[0m: "
     ]
    }
   ],
   "source": [
    "import pandas as pd\n",
    "from tqdm import tqdm\n",
    "\n",
    "for fold in range(kfold):\n",
    "    best_train_mae = 99999\n",
    "    best_test_mae = 99999\n",
    "    set_seed(seed)\n",
    "    test_dataset = split[fold]\n",
    "    train_list = []\n",
    "    for m in range(kfold):\n",
    "        if m != fold:\n",
    "            train_list.append(split[m])\n",
    "    train_dataset = torch.utils.data.ConcatDataset(train_list)\n",
    "\n",
    "    test_loader = DataLoader(test_dataset, batch_size=1, shuffle=True,\n",
    "                             num_workers=2, pin_memory=True,\n",
    "                             prefetch_factor=2, drop_last=True, persistent_workers=True, )\n",
    "    test_loader = list(test_loader)\n",
    "    frame = pd.DataFrame(columns=['inchi_true', 'rt_true', 'inchi', 'rt_pred'])\n",
    "    frame_index = 0\n",
    "    for data in tqdm(test_loader):\n",
    "        formula = data.formula[0]\n",
    "        next_data_path = f'./search_5_datasets/{formula}'\n",
    "        predict_dataset = PredictionDataset(next_data_path)\n",
    "        predict_loader = DataLoader(predict_dataset, batch_size=1024, shuffle=True,\n",
    "                                    num_workers=2, pin_memory=True,\n",
    "                                    prefetch_factor=2, persistent_workers=True)\n",
    "\n",
    "        inchi_true = data.inchi\n",
    "        rt_true = data.y.cpu().item()\n",
    "        for data_for_pred in predict_loader:\n",
    "            data_for_pred.to(device)\n",
    "            pred = model(data_for_pred)\n",
    "            reshape = pred.reshape(-1)\n",
    "            for i in range(len(reshape)):\n",
    "                pred_rt = reshape[i]\n",
    "                inchi = data_for_pred[i].inchi\n",
    "                frame.loc[frame_index] = {\n",
    "                    'inchi_true': inchi_true,\n",
    "                    'rt_true': rt_true,\n",
    "                    'inchi': inchi,\n",
    "                    'rt_pred': pred_rt.cpu().item()\n",
    "                }\n",
    "                frame_index = frame_index + 1\n",
    "\n",
    "frame.to_csv(f'results/{dataset_name}_results.csv')"
   ]
  },
  {
   "cell_type": "code",
   "execution_count": null,
   "metadata": {
    "collapsed": false,
    "pycharm": {
     "name": "#%%\n"
    }
   },
   "outputs": [],
   "source": []
  },
  {
   "cell_type": "code",
   "execution_count": null,
   "metadata": {
    "collapsed": false,
    "pycharm": {
     "name": "#%%\n"
    }
   },
   "outputs": [],
   "source": []
  },
  {
   "cell_type": "code",
   "execution_count": null,
   "metadata": {
    "collapsed": false,
    "pycharm": {
     "name": "#%%\n"
    }
   },
   "outputs": [],
   "source": []
  },
  {
   "cell_type": "code",
   "execution_count": null,
   "metadata": {
    "collapsed": false,
    "pycharm": {
     "name": "#%%\n"
    }
   },
   "outputs": [],
   "source": []
  },
  {
   "cell_type": "code",
   "execution_count": null,
   "metadata": {
    "collapsed": false,
    "pycharm": {
     "name": "#%%\n"
    }
   },
   "outputs": [],
   "source": []
  },
  {
   "cell_type": "code",
   "execution_count": null,
   "metadata": {
    "collapsed": false,
    "pycharm": {
     "name": "#%%\n"
    }
   },
   "outputs": [],
   "source": []
  },
  {
   "cell_type": "code",
   "execution_count": null,
   "metadata": {
    "collapsed": false,
    "pycharm": {
     "name": "#%%\n"
    }
   },
   "outputs": [],
   "source": []
  },
  {
   "cell_type": "code",
   "execution_count": null,
   "metadata": {
    "collapsed": false,
    "pycharm": {
     "name": "#%%\n"
    }
   },
   "outputs": [],
   "source": []
  },
  {
   "cell_type": "code",
   "execution_count": null,
   "metadata": {
    "collapsed": false,
    "pycharm": {
     "name": "#%%\n"
    }
   },
   "outputs": [],
   "source": []
  },
  {
   "cell_type": "code",
   "execution_count": null,
   "metadata": {
    "collapsed": false,
    "pycharm": {
     "name": "#%%\n"
    }
   },
   "outputs": [],
   "source": []
  },
  {
   "cell_type": "code",
   "execution_count": null,
   "metadata": {
    "collapsed": false,
    "pycharm": {
     "name": "#%%\n"
    }
   },
   "outputs": [],
   "source": []
  }
 ],
 "metadata": {
  "kernelspec": {
   "display_name": "Python 3.10.8 ('jun')",
   "language": "python",
   "name": "python3"
  },
  "language_info": {
   "codemirror_mode": {
    "name": "ipython",
    "version": 2
   },
   "file_extension": ".py",
   "mimetype": "text/x-python",
   "name": "python",
   "nbconvert_exporter": "python",
   "pygments_lexer": "ipython2",
   "version": "3.10.8"
  },
  "vscode": {
   "interpreter": {
    "hash": "1ff2b3b6c3b071951623a297d2cfcee59d814ff050bd30c8c1369235741a1fec"
   }
  }
 },
 "nbformat": 4,
 "nbformat_minor": 0
}

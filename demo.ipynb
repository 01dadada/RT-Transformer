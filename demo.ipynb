{
 "cells": [
  {
   "cell_type": "code",
   "execution_count": 1,
   "metadata": {
    "collapsed": true
   },
   "outputs": [],
   "source": [
    "import numpy as np\n",
    "from model import MyNet\n",
    "from load_data import SMRTDataset, SMRTDatasetRetained\n",
    "import torch\n",
    "from torch_geometric.loader import DataLoader\n",
    "from torch.utils.data import random_split\n",
    "import warnings\n",
    "warnings.filterwarnings(\"ignore\")\n",
    "import os"
   ]
  },
  {
   "cell_type": "code",
   "execution_count": 2,
   "outputs": [],
   "source": [
    "batch_size = 1024\n",
    "num_works = 4\n",
    "test_batch = 512\n",
    "\n",
    "torch.manual_seed(1234)\n",
    "dataset = SMRTDatasetRetained('./SMRT_Retained')\n",
    "\n",
    "train_len = int(dataset.__len__() * 0.9)\n",
    "test_len = dataset.__len__() - train_len\n",
    "train_dataset, test_dataset = random_split(dataset, [train_len, test_len])\n",
    "\n",
    "train_len_2 = int(train_len * 0.9)\n",
    "dev_len = train_len - train_len_2\n",
    "train_dataset, dev_data_set = random_split(train_dataset, [train_len_2, dev_len])\n",
    "\n",
    "\n",
    "\n"
   ],
   "metadata": {
    "collapsed": false,
    "pycharm": {
     "name": "#%%\n"
    }
   }
  },
  {
   "cell_type": "code",
   "execution_count": 3,
   "outputs": [
    {
     "name": "stdout",
     "output_type": "stream",
     "text": [
      "use: cuda\n"
     ]
    },
    {
     "data": {
      "text/plain": "<torch._C.Generator at 0x7f3793feb090>"
     },
     "execution_count": 3,
     "metadata": {},
     "output_type": "execute_result"
    }
   ],
   "source": [
    "\n",
    "train_loader = DataLoader(train_dataset, batch_size=batch_size, shuffle=True,\n",
    "                          num_workers=num_works, pin_memory=True,\n",
    "                          prefetch_factor=16, persistent_workers=True)\n",
    "dev_loader = DataLoader(dev_data_set, batch_size=test_batch, shuffle=True,\n",
    "                        num_workers=num_works, pin_memory=True,\n",
    "                        prefetch_factor=16, persistent_workers=True)\n",
    "test_loader = DataLoader(test_dataset, batch_size=test_batch, shuffle=True,\n",
    "                         num_workers=num_works, pin_memory=True,\n",
    "                         prefetch_factor=16, persistent_workers=True)\n",
    "device = torch.device('cuda' if torch.cuda.is_available() else 'cpu')\n",
    "print(f'use:', device)\n",
    "torch.manual_seed(1234)\n",
    "# model = MyNet(emb_dim=512, feat_dim=512)"
   ],
   "metadata": {
    "collapsed": false,
    "pycharm": {
     "name": "#%%\n"
    }
   }
  },
  {
   "cell_type": "code",
   "execution_count": 4,
   "outputs": [],
   "source": [
    "model = torch.load('./models/best_model_download.pkl', map_location='cuda:0')\n",
    "model.to(device=device)\n",
    "np.random.seed(1234)\n",
    "\n",
    "\n",
    "path = './search_form_pubchem'\n",
    "# path = './compare'\n",
    "listdir = os.listdir(path)"
   ],
   "metadata": {
    "collapsed": false,
    "pycharm": {
     "name": "#%%\n"
    }
   }
  },
  {
   "cell_type": "code",
   "execution_count": 5,
   "outputs": [
    {
     "data": {
      "text/plain": "'PubChem_compound_formulaquery_C26H33N3O4S.csv'"
     },
     "execution_count": 5,
     "metadata": {},
     "output_type": "execute_result"
    }
   ],
   "source": [
    "listdir[0]"
   ],
   "metadata": {
    "collapsed": false,
    "pycharm": {
     "name": "#%%\n"
    }
   }
  },
  {
   "cell_type": "code",
   "execution_count": 6,
   "outputs": [],
   "source": [
    "import pandas as pd\n",
    "frame = pd.read_csv(os.path.join(path,listdir[0]))"
   ],
   "metadata": {
    "collapsed": false,
    "pycharm": {
     "name": "#%%\n"
    }
   }
  },
  {
   "cell_type": "code",
   "execution_count": 7,
   "outputs": [
    {
     "data": {
      "text/plain": "            cid                                           cmpdname  \\\n0        272875  Tert-butyl 2-[5,5-dimethyl-4-(2-phenylacetyl)-...   \n1        473007  (4R)-N-tert-Butyl-3-[(2S,3S)-2-hydroxy-3-[(2-m...   \n2        647362  N-Cyclopentylcarbamoylmethyl-N-(2,5-dimethyl-p...   \n3        655819  N-Cyclopentylcarbamoylmethyl-N-(2,3-dimethyl-p...   \n4       1030206  2-[[2-(3,4-dimethoxyphenyl)ethyl-[(4-methoxyph...   \n...         ...                                                ...   \n2415  164147374  3-[[4-[(3,5-dimethylmorpholin-4-yl)methyl]phen...   \n2416  164164618  1-cyclohexyl-3-[[2-[2-(4-methylphenyl)propanoy...   \n2417  164699411  (3S,8S)-14-methyl-6-(3-methylsulfanylpropyl)-2...   \n2418  165011076  1-[3-(Dimethylamino)phenyl]-5-[2-(4-methyl-1,1...   \n2419  165036225  3-[7-[9-(5-methyl-1,3-oxazol-2-yl)nonylsulfany...   \n\n                                            cmpdsynonym     mw           mf  \\\n0                                  NSC117596|NSC-117596  483.6  C26H33N3O4S   \n1     CHEMBL301525|SCHEMBL6578073|(4R)-N-tert-butyl-...  483.6  C26H33N3O4S   \n2     MLS000073549|CHEMBL1323532|HMS2481C14|AKOS0008...  483.6  C26H33N3O4S   \n3     SMR000003641|MLS000073370|CHEMBL1522174|HMS249...  483.6  C26H33N3O4S   \n4                                                   NaN  483.6  C26H33N3O4S   \n...                                                 ...    ...          ...   \n2415                                                NaN  483.6  C26H33N3O4S   \n2416                                                NaN  483.6  C26H33N3O4S   \n2417                                                NaN  483.6  C26H33N3O4S   \n2418                                                NaN  483.6  C26H33N3O4S   \n2419                                                NaN  483.6  C26H33N3O4S   \n\n      polararea  complexity  xlogp  heavycnt  hbonddonor  ...  \\\n0         122.0       724.0    4.0        34           3  ...   \n1         124.0       719.0    3.3        34           3  ...   \n2         115.0       732.0    3.8        34           2  ...   \n3         115.0       732.0    3.8        34           2  ...   \n4         101.0       603.0    4.6        34           1  ...   \n...         ...         ...    ...       ...         ...  ...   \n2415       99.4       776.0    NaN        34           1  ...   \n2416      104.0       812.0    4.7        34           2  ...   \n2417      105.0       672.0    3.4        34           2  ...   \n2418       86.4       867.0    3.5        34           0  ...   \n2419      118.0       720.0    4.7        34           1  ...   \n\n                         inchikey  \\\n0     XNOKQWOLEHLUIH-UHFFFAOYSA-N   \n1     UYVPMYGVINZDOW-FKBYEOEOSA-N   \n2     YBPUHDGZAPIMBB-UHFFFAOYSA-N   \n3     LCAGIDLJWBTJEO-UHFFFAOYSA-N   \n4     FSWARKCSMMCMDY-UHFFFAOYSA-N   \n...                           ...   \n2415  ZBPVSAADSZQLIV-PBHPYXJZSA-N   \n2416  ZPZBJMYPHWKXSS-UHFFFAOYSA-N   \n2417  RONWNPWJJVOEKA-GOTSBHOMSA-N   \n2418  JSEDDAYFTZVMCA-UHFFFAOYSA-N   \n2419  NKMNOJJBPASWMV-UHFFFAOYSA-N   \n\n                                              iupacname meshheadings  \\\n0     tert-butyl 2-[5,5-dimethyl-4-(2-phenylacetyl)-...          NaN   \n1     (4R)-N-tert-butyl-3-[(2S,3S)-2-hydroxy-3-[(2-m...          NaN   \n2     N-cyclopentyl-2-(2,5-dimethyl-N-[2-[2-(4-methy...          NaN   \n3     N-cyclopentyl-2-(2,3-dimethyl-N-[2-[2-(4-methy...          NaN   \n4     2-[[2-(3,4-dimethoxyphenyl)ethyl-[(4-methoxyph...          NaN   \n...                                                 ...          ...   \n2415  3-[[4-[(3,5-dimethylmorpholin-4-yl)methyl]phen...          NaN   \n2416  1-cyclohexyl-3-[[2-[2-(4-methylphenyl)propanoy...          NaN   \n2417  (3S,8S)-14-methyl-6-(3-methylsulfanylpropyl)-2...          NaN   \n2418  1-[3-(dimethylamino)phenyl]-5-[2-(4-methyl-1,1...          NaN   \n2419  3-[7-[9-(5-methyl-1,3-oxazol-2-yl)nonylsulfany...          NaN   \n\n                                              annothits annothitcnt  \\\n0                                 Names and Identifiers           1   \n1     Biological Test Results|Classification|Literat...           4   \n2                               Biological Test Results           1   \n3                               Biological Test Results           1   \n4                                                   NaN           0   \n...                                                 ...         ...   \n2415                                            Patents           1   \n2416                                            Patents           1   \n2417                                                NaN           0   \n2418                                                NaN           0   \n2419                                                NaN           0   \n\n                                                   aids  cidcdate  \\\n0                                                   NaN  20050326   \n1                                                162545  20050801   \n2     360|361|368|373|374|411|422|425|429|430|431|43...  20050604   \n3     360|361|368|373|374|411|422|425|429|430|431|43...  20050604   \n4                                                   NaN  20050709   \n...                                                 ...       ...   \n2415                                                NaN  20220706   \n2416                                                NaN  20220706   \n2417                                                NaN  20220826   \n2418                                                NaN  20221001   \n2419                                                NaN  20221001   \n\n                                             sidsrcname  \\\n0            ABI Chem|ChemDB|ChemSpider|DTP/NCI|NextBio   \n1     ABI Chem|ChEMBL|DiscoveryGate|Google Patents|J...   \n2     ABI Chem|AKos Consulting & Solutions|ASINEX|Ch...   \n3     ABI Chem|ASINEX|ChEMBL|ChemDB|Collaborative Dr...   \n4                    ABI Chem|ChemDB|ChemSpider|NextBio   \n...                                                 ...   \n2415                                     Google Patents   \n2416                                     Google Patents   \n2417                                         ChemBridge   \n2418                                     Google Patents   \n2419                                     Google Patents   \n\n                                                depcatg annotation  \n0     Chemical Vendors|Governmental Organizations|Le...        NaN  \n1     Chemical Vendors|Curation Efforts|Governmental...        NaN  \n2     Chemical Vendors|Curation Efforts|Governmental...        NaN  \n3     Chemical Vendors|Curation Efforts|Governmental...        NaN  \n4     Chemical Vendors|Legacy Depositors|Research an...        NaN  \n...                                                 ...        ...  \n2415                           Research and Development        NaN  \n2416                           Research and Development        NaN  \n2417                                   Chemical Vendors        NaN  \n2418                           Research and Development        NaN  \n2419                           Research and Development        NaN  \n\n[2420 rows x 24 columns]",
      "text/html": "<div>\n<style scoped>\n    .dataframe tbody tr th:only-of-type {\n        vertical-align: middle;\n    }\n\n    .dataframe tbody tr th {\n        vertical-align: top;\n    }\n\n    .dataframe thead th {\n        text-align: right;\n    }\n</style>\n<table border=\"1\" class=\"dataframe\">\n  <thead>\n    <tr style=\"text-align: right;\">\n      <th></th>\n      <th>cid</th>\n      <th>cmpdname</th>\n      <th>cmpdsynonym</th>\n      <th>mw</th>\n      <th>mf</th>\n      <th>polararea</th>\n      <th>complexity</th>\n      <th>xlogp</th>\n      <th>heavycnt</th>\n      <th>hbonddonor</th>\n      <th>...</th>\n      <th>inchikey</th>\n      <th>iupacname</th>\n      <th>meshheadings</th>\n      <th>annothits</th>\n      <th>annothitcnt</th>\n      <th>aids</th>\n      <th>cidcdate</th>\n      <th>sidsrcname</th>\n      <th>depcatg</th>\n      <th>annotation</th>\n    </tr>\n  </thead>\n  <tbody>\n    <tr>\n      <th>0</th>\n      <td>272875</td>\n      <td>Tert-butyl 2-[5,5-dimethyl-4-(2-phenylacetyl)-...</td>\n      <td>NSC117596|NSC-117596</td>\n      <td>483.6</td>\n      <td>C26H33N3O4S</td>\n      <td>122.0</td>\n      <td>724.0</td>\n      <td>4.0</td>\n      <td>34</td>\n      <td>3</td>\n      <td>...</td>\n      <td>XNOKQWOLEHLUIH-UHFFFAOYSA-N</td>\n      <td>tert-butyl 2-[5,5-dimethyl-4-(2-phenylacetyl)-...</td>\n      <td>NaN</td>\n      <td>Names and Identifiers</td>\n      <td>1</td>\n      <td>NaN</td>\n      <td>20050326</td>\n      <td>ABI Chem|ChemDB|ChemSpider|DTP/NCI|NextBio</td>\n      <td>Chemical Vendors|Governmental Organizations|Le...</td>\n      <td>NaN</td>\n    </tr>\n    <tr>\n      <th>1</th>\n      <td>473007</td>\n      <td>(4R)-N-tert-Butyl-3-[(2S,3S)-2-hydroxy-3-[(2-m...</td>\n      <td>CHEMBL301525|SCHEMBL6578073|(4R)-N-tert-butyl-...</td>\n      <td>483.6</td>\n      <td>C26H33N3O4S</td>\n      <td>124.0</td>\n      <td>719.0</td>\n      <td>3.3</td>\n      <td>34</td>\n      <td>3</td>\n      <td>...</td>\n      <td>UYVPMYGVINZDOW-FKBYEOEOSA-N</td>\n      <td>(4R)-N-tert-butyl-3-[(2S,3S)-2-hydroxy-3-[(2-m...</td>\n      <td>NaN</td>\n      <td>Biological Test Results|Classification|Literat...</td>\n      <td>4</td>\n      <td>162545</td>\n      <td>20050801</td>\n      <td>ABI Chem|ChEMBL|DiscoveryGate|Google Patents|J...</td>\n      <td>Chemical Vendors|Curation Efforts|Governmental...</td>\n      <td>NaN</td>\n    </tr>\n    <tr>\n      <th>2</th>\n      <td>647362</td>\n      <td>N-Cyclopentylcarbamoylmethyl-N-(2,5-dimethyl-p...</td>\n      <td>MLS000073549|CHEMBL1323532|HMS2481C14|AKOS0008...</td>\n      <td>483.6</td>\n      <td>C26H33N3O4S</td>\n      <td>115.0</td>\n      <td>732.0</td>\n      <td>3.8</td>\n      <td>34</td>\n      <td>2</td>\n      <td>...</td>\n      <td>YBPUHDGZAPIMBB-UHFFFAOYSA-N</td>\n      <td>N-cyclopentyl-2-(2,5-dimethyl-N-[2-[2-(4-methy...</td>\n      <td>NaN</td>\n      <td>Biological Test Results</td>\n      <td>1</td>\n      <td>360|361|368|373|374|411|422|425|429|430|431|43...</td>\n      <td>20050604</td>\n      <td>ABI Chem|AKos Consulting &amp; Solutions|ASINEX|Ch...</td>\n      <td>Chemical Vendors|Curation Efforts|Governmental...</td>\n      <td>NaN</td>\n    </tr>\n    <tr>\n      <th>3</th>\n      <td>655819</td>\n      <td>N-Cyclopentylcarbamoylmethyl-N-(2,3-dimethyl-p...</td>\n      <td>SMR000003641|MLS000073370|CHEMBL1522174|HMS249...</td>\n      <td>483.6</td>\n      <td>C26H33N3O4S</td>\n      <td>115.0</td>\n      <td>732.0</td>\n      <td>3.8</td>\n      <td>34</td>\n      <td>2</td>\n      <td>...</td>\n      <td>LCAGIDLJWBTJEO-UHFFFAOYSA-N</td>\n      <td>N-cyclopentyl-2-(2,3-dimethyl-N-[2-[2-(4-methy...</td>\n      <td>NaN</td>\n      <td>Biological Test Results</td>\n      <td>1</td>\n      <td>360|361|368|373|374|411|422|425|429|430|431|43...</td>\n      <td>20050604</td>\n      <td>ABI Chem|ASINEX|ChEMBL|ChemDB|Collaborative Dr...</td>\n      <td>Chemical Vendors|Curation Efforts|Governmental...</td>\n      <td>NaN</td>\n    </tr>\n    <tr>\n      <th>4</th>\n      <td>1030206</td>\n      <td>2-[[2-(3,4-dimethoxyphenyl)ethyl-[(4-methoxyph...</td>\n      <td>NaN</td>\n      <td>483.6</td>\n      <td>C26H33N3O4S</td>\n      <td>101.0</td>\n      <td>603.0</td>\n      <td>4.6</td>\n      <td>34</td>\n      <td>1</td>\n      <td>...</td>\n      <td>FSWARKCSMMCMDY-UHFFFAOYSA-N</td>\n      <td>2-[[2-(3,4-dimethoxyphenyl)ethyl-[(4-methoxyph...</td>\n      <td>NaN</td>\n      <td>NaN</td>\n      <td>0</td>\n      <td>NaN</td>\n      <td>20050709</td>\n      <td>ABI Chem|ChemDB|ChemSpider|NextBio</td>\n      <td>Chemical Vendors|Legacy Depositors|Research an...</td>\n      <td>NaN</td>\n    </tr>\n    <tr>\n      <th>...</th>\n      <td>...</td>\n      <td>...</td>\n      <td>...</td>\n      <td>...</td>\n      <td>...</td>\n      <td>...</td>\n      <td>...</td>\n      <td>...</td>\n      <td>...</td>\n      <td>...</td>\n      <td>...</td>\n      <td>...</td>\n      <td>...</td>\n      <td>...</td>\n      <td>...</td>\n      <td>...</td>\n      <td>...</td>\n      <td>...</td>\n      <td>...</td>\n      <td>...</td>\n      <td>...</td>\n    </tr>\n    <tr>\n      <th>2415</th>\n      <td>164147374</td>\n      <td>3-[[4-[(3,5-dimethylmorpholin-4-yl)methyl]phen...</td>\n      <td>NaN</td>\n      <td>483.6</td>\n      <td>C26H33N3O4S</td>\n      <td>99.4</td>\n      <td>776.0</td>\n      <td>NaN</td>\n      <td>34</td>\n      <td>1</td>\n      <td>...</td>\n      <td>ZBPVSAADSZQLIV-PBHPYXJZSA-N</td>\n      <td>3-[[4-[(3,5-dimethylmorpholin-4-yl)methyl]phen...</td>\n      <td>NaN</td>\n      <td>Patents</td>\n      <td>1</td>\n      <td>NaN</td>\n      <td>20220706</td>\n      <td>Google Patents</td>\n      <td>Research and Development</td>\n      <td>NaN</td>\n    </tr>\n    <tr>\n      <th>2416</th>\n      <td>164164618</td>\n      <td>1-cyclohexyl-3-[[2-[2-(4-methylphenyl)propanoy...</td>\n      <td>NaN</td>\n      <td>483.6</td>\n      <td>C26H33N3O4S</td>\n      <td>104.0</td>\n      <td>812.0</td>\n      <td>4.7</td>\n      <td>34</td>\n      <td>2</td>\n      <td>...</td>\n      <td>ZPZBJMYPHWKXSS-UHFFFAOYSA-N</td>\n      <td>1-cyclohexyl-3-[[2-[2-(4-methylphenyl)propanoy...</td>\n      <td>NaN</td>\n      <td>Patents</td>\n      <td>1</td>\n      <td>NaN</td>\n      <td>20220706</td>\n      <td>Google Patents</td>\n      <td>Research and Development</td>\n      <td>NaN</td>\n    </tr>\n    <tr>\n      <th>2417</th>\n      <td>164699411</td>\n      <td>(3S,8S)-14-methyl-6-(3-methylsulfanylpropyl)-2...</td>\n      <td>NaN</td>\n      <td>483.6</td>\n      <td>C26H33N3O4S</td>\n      <td>105.0</td>\n      <td>672.0</td>\n      <td>3.4</td>\n      <td>34</td>\n      <td>2</td>\n      <td>...</td>\n      <td>RONWNPWJJVOEKA-GOTSBHOMSA-N</td>\n      <td>(3S,8S)-14-methyl-6-(3-methylsulfanylpropyl)-2...</td>\n      <td>NaN</td>\n      <td>NaN</td>\n      <td>0</td>\n      <td>NaN</td>\n      <td>20220826</td>\n      <td>ChemBridge</td>\n      <td>Chemical Vendors</td>\n      <td>NaN</td>\n    </tr>\n    <tr>\n      <th>2418</th>\n      <td>165011076</td>\n      <td>1-[3-(Dimethylamino)phenyl]-5-[2-(4-methyl-1,1...</td>\n      <td>NaN</td>\n      <td>483.6</td>\n      <td>C26H33N3O4S</td>\n      <td>86.4</td>\n      <td>867.0</td>\n      <td>3.5</td>\n      <td>34</td>\n      <td>0</td>\n      <td>...</td>\n      <td>JSEDDAYFTZVMCA-UHFFFAOYSA-N</td>\n      <td>1-[3-(dimethylamino)phenyl]-5-[2-(4-methyl-1,1...</td>\n      <td>NaN</td>\n      <td>NaN</td>\n      <td>0</td>\n      <td>NaN</td>\n      <td>20221001</td>\n      <td>Google Patents</td>\n      <td>Research and Development</td>\n      <td>NaN</td>\n    </tr>\n    <tr>\n      <th>2419</th>\n      <td>165036225</td>\n      <td>3-[7-[9-(5-methyl-1,3-oxazol-2-yl)nonylsulfany...</td>\n      <td>NaN</td>\n      <td>483.6</td>\n      <td>C26H33N3O4S</td>\n      <td>118.0</td>\n      <td>720.0</td>\n      <td>4.7</td>\n      <td>34</td>\n      <td>1</td>\n      <td>...</td>\n      <td>NKMNOJJBPASWMV-UHFFFAOYSA-N</td>\n      <td>3-[7-[9-(5-methyl-1,3-oxazol-2-yl)nonylsulfany...</td>\n      <td>NaN</td>\n      <td>NaN</td>\n      <td>0</td>\n      <td>NaN</td>\n      <td>20221001</td>\n      <td>Google Patents</td>\n      <td>Research and Development</td>\n      <td>NaN</td>\n    </tr>\n  </tbody>\n</table>\n<p>2420 rows × 24 columns</p>\n</div>"
     },
     "execution_count": 7,
     "metadata": {},
     "output_type": "execute_result"
    }
   ],
   "source": [
    "frame"
   ],
   "metadata": {
    "collapsed": false,
    "pycharm": {
     "name": "#%%\n"
    }
   }
  },
  {
   "cell_type": "code",
   "execution_count": 8,
   "outputs": [
    {
     "data": {
      "text/plain": "Index(['cid', 'cmpdname', 'cmpdsynonym', 'mw', 'mf', 'polararea', 'complexity',\n       'xlogp', 'heavycnt', 'hbonddonor', 'hbondacc', 'rotbonds', 'inchi',\n       'isosmiles', 'inchikey', 'iupacname', 'meshheadings', 'annothits',\n       'annothitcnt', 'aids', 'cidcdate', 'sidsrcname', 'depcatg',\n       'annotation'],\n      dtype='object')"
     },
     "execution_count": 8,
     "metadata": {},
     "output_type": "execute_result"
    }
   ],
   "source": [
    "frame.columns"
   ],
   "metadata": {
    "collapsed": false,
    "pycharm": {
     "name": "#%%\n"
    }
   }
  },
  {
   "cell_type": "code",
   "execution_count": 9,
   "outputs": [
    {
     "name": "stderr",
     "output_type": "stream",
     "text": [
      "Processing...\n",
      "Done!\n"
     ]
    }
   ],
   "source": [
    "from transferDataset import PredictionDataset\n",
    "pred_data = PredictionDataset(os.path.join(path,listdir[0]).split('./')[1].split('.')[0])"
   ],
   "metadata": {
    "collapsed": false,
    "pycharm": {
     "name": "#%%\n"
    }
   }
  },
  {
   "cell_type": "code",
   "execution_count": 10,
   "outputs": [
    {
     "data": {
      "text/plain": "Data(x=[67, 34], edge_index=[2, 138], edge_attr=[138, 5], fingerprint=[2048], inchi='InChI=1S/C26H33N3O4S/c1-25(2,3)33-23(31)20(28-24(32)27-18-14-10-7-11-15-18)22-29-21(26(4,5)34-22)19(30)16-17-12-8-6-9-13-17/h6-15,20-22,29H,16H2,1-5H3,(H2,27,28,32)')"
     },
     "execution_count": 10,
     "metadata": {},
     "output_type": "execute_result"
    }
   ],
   "source": [
    "pred_data[0]"
   ],
   "metadata": {
    "collapsed": false,
    "pycharm": {
     "name": "#%%\n"
    }
   }
  },
  {
   "cell_type": "code",
   "execution_count": 11,
   "outputs": [
    {
     "data": {
      "text/plain": "2420"
     },
     "execution_count": 11,
     "metadata": {},
     "output_type": "execute_result"
    }
   ],
   "source": [
    "len(pred_data)"
   ],
   "metadata": {
    "collapsed": false,
    "pycharm": {
     "name": "#%%\n"
    }
   }
  },
  {
   "cell_type": "code",
   "execution_count": 18,
   "outputs": [
    {
     "name": "stderr",
     "output_type": "stream",
     "text": [
      "605it [00:12, 49.71it/s]\n"
     ]
    }
   ],
   "source": [
    "from tqdm import tqdm\n",
    "result = pd.DataFrame(columns=['inchi','pred_rt'])\n",
    "\n",
    "loader = DataLoader(pred_data, batch_size=4, shuffle=True,\n",
    "                          num_workers=num_works, pin_memory=True,\n",
    "                          prefetch_factor=16, persistent_workers=True)\n",
    "model = torch.load('./models/best_model_download.pkl', map_location='cuda:0')\n",
    "model.to(device=device)\n",
    "total_loss = torch.tensor(0, dtype=torch.float64, device=device)\n",
    "index = 0\n",
    "with torch.no_grad():\n",
    "    for i, data in tqdm(enumerate(loader)):\n",
    "        data.to(device)\n",
    "        y_hat = model(data)\n",
    "        for j, y_pre in enumerate(y_hat):\n",
    "            result.loc[index] = {'inchi':data.inchi[j],'pred_rt':y_pre.cpu().item()}\n",
    "            index += 1"
   ],
   "metadata": {
    "collapsed": false,
    "pycharm": {
     "name": "#%%\n"
    }
   }
  },
  {
   "cell_type": "code",
   "execution_count": 19,
   "outputs": [
    {
     "data": {
      "text/plain": "                                                  inchi      pred_rt\n0     InChI=1S/C26H33N3O4S/c1-18-7-9-19(10-8-18)13-1...   940.079468\n1     InChI=1S/C26H33N3O4S/c1-25(2)26(3,24(27)31)10-...   757.940979\n2     InChI=1S/C26H33N3O4S/c1-5-28(6-2)26(31)17-29-1...   824.466675\n3     InChI=1S/C26H33N3O4S/c1-4-6-7-8-17-33-22-15-11...   964.212158\n4     InChI=1S/C26H33N3O4S/c1-17(2)15-24(26(31)27-23...   942.646790\n...                                                 ...          ...\n2415  InChI=1S/C26H33N3O4S/c1-17-5-3-4-6-23(17)26(31...   923.776428\n2416  InChI=1S/C26H33N3O4S/c1-20-8-13-23(34(32,33)29...   879.962524\n2417  InChI=1S/C26H33N3O4S/c1-2-33-26(32)23-20-10-6-...  1220.864502\n2418  InChI=1S/C26H33N3O4S/c1-3-24(26(31)27-22-6-4-5...  1150.223511\n2419  InChI=1S/C26H33N3O4S/c30-26(21-17-20-9-3-4-10-...  1115.652466\n\n[2420 rows x 2 columns]",
      "text/html": "<div>\n<style scoped>\n    .dataframe tbody tr th:only-of-type {\n        vertical-align: middle;\n    }\n\n    .dataframe tbody tr th {\n        vertical-align: top;\n    }\n\n    .dataframe thead th {\n        text-align: right;\n    }\n</style>\n<table border=\"1\" class=\"dataframe\">\n  <thead>\n    <tr style=\"text-align: right;\">\n      <th></th>\n      <th>inchi</th>\n      <th>pred_rt</th>\n    </tr>\n  </thead>\n  <tbody>\n    <tr>\n      <th>0</th>\n      <td>InChI=1S/C26H33N3O4S/c1-18-7-9-19(10-8-18)13-1...</td>\n      <td>940.079468</td>\n    </tr>\n    <tr>\n      <th>1</th>\n      <td>InChI=1S/C26H33N3O4S/c1-25(2)26(3,24(27)31)10-...</td>\n      <td>757.940979</td>\n    </tr>\n    <tr>\n      <th>2</th>\n      <td>InChI=1S/C26H33N3O4S/c1-5-28(6-2)26(31)17-29-1...</td>\n      <td>824.466675</td>\n    </tr>\n    <tr>\n      <th>3</th>\n      <td>InChI=1S/C26H33N3O4S/c1-4-6-7-8-17-33-22-15-11...</td>\n      <td>964.212158</td>\n    </tr>\n    <tr>\n      <th>4</th>\n      <td>InChI=1S/C26H33N3O4S/c1-17(2)15-24(26(31)27-23...</td>\n      <td>942.646790</td>\n    </tr>\n    <tr>\n      <th>...</th>\n      <td>...</td>\n      <td>...</td>\n    </tr>\n    <tr>\n      <th>2415</th>\n      <td>InChI=1S/C26H33N3O4S/c1-17-5-3-4-6-23(17)26(31...</td>\n      <td>923.776428</td>\n    </tr>\n    <tr>\n      <th>2416</th>\n      <td>InChI=1S/C26H33N3O4S/c1-20-8-13-23(34(32,33)29...</td>\n      <td>879.962524</td>\n    </tr>\n    <tr>\n      <th>2417</th>\n      <td>InChI=1S/C26H33N3O4S/c1-2-33-26(32)23-20-10-6-...</td>\n      <td>1220.864502</td>\n    </tr>\n    <tr>\n      <th>2418</th>\n      <td>InChI=1S/C26H33N3O4S/c1-3-24(26(31)27-22-6-4-5...</td>\n      <td>1150.223511</td>\n    </tr>\n    <tr>\n      <th>2419</th>\n      <td>InChI=1S/C26H33N3O4S/c30-26(21-17-20-9-3-4-10-...</td>\n      <td>1115.652466</td>\n    </tr>\n  </tbody>\n</table>\n<p>2420 rows × 2 columns</p>\n</div>"
     },
     "execution_count": 19,
     "metadata": {},
     "output_type": "execute_result"
    }
   ],
   "source": [
    "result"
   ],
   "metadata": {
    "collapsed": false,
    "pycharm": {
     "name": "#%%\n"
    }
   }
  },
  {
   "cell_type": "code",
   "execution_count": 24,
   "outputs": [],
   "source": [
    "formula = listdir[0].split('formulaquery_')[1].split('.')[0]"
   ],
   "metadata": {
    "collapsed": false,
    "pycharm": {
     "name": "#%%\n"
    }
   }
  },
  {
   "cell_type": "code",
   "execution_count": 32,
   "outputs": [],
   "source": [
    "save_path = os.path.join(path, formula)+'_results.csv'"
   ],
   "metadata": {
    "collapsed": false,
    "pycharm": {
     "name": "#%%\n"
    }
   }
  },
  {
   "cell_type": "code",
   "execution_count": 33,
   "outputs": [
    {
     "data": {
      "text/plain": "'./search_form_pubchem/C26H33N3O4S_results.csv'"
     },
     "execution_count": 33,
     "metadata": {},
     "output_type": "execute_result"
    }
   ],
   "source": [
    "save_path"
   ],
   "metadata": {
    "collapsed": false,
    "pycharm": {
     "name": "#%%\n"
    }
   }
  },
  {
   "cell_type": "code",
   "execution_count": 34,
   "outputs": [],
   "source": [
    "result.to_csv(save_path, index=False)"
   ],
   "metadata": {
    "collapsed": false,
    "pycharm": {
     "name": "#%%\n"
    }
   }
  },
  {
   "cell_type": "code",
   "execution_count": 35,
   "outputs": [],
   "source": [
    "listdir = os.listdir('search_form_pubchem')"
   ],
   "metadata": {
    "collapsed": false,
    "pycharm": {
     "name": "#%%\n"
    }
   }
  },
  {
   "cell_type": "code",
   "execution_count": 36,
   "outputs": [
    {
     "data": {
      "text/plain": "['PubChem_compound_formulaquery_C17H27NO3',\n 'PubChem_compound_formulaquery_C26H33N3O4S.csv',\n 'PubChem_compound_formulaquery_C15H15N3O3S',\n 'C17H27NO3_results.csv',\n 'PubChem_compound_formulaquery_C18H26N2O2.csv',\n 'C23H24ClN3O4S_results.csv',\n 'PubChem_compound_formulaquery_C24H33N5O3',\n 'PubChem_compound_formulaquery_C18H13N3O4',\n 'PubChem_compound_formulaquery_C19H19ClN4O2S.csv',\n 'C18H23NO3_results.csv',\n 'PubChem_compound_formulaquery_C22H21N5O2',\n 'PubChem_compound_formulaquery_C18H26N4OS',\n 'C19H25N3O3_results.csv',\n 'PubChem_compound_formulaquery_C19H20N4O3',\n 'PubChem_compound_formulaquery_C19H20N2O',\n 'C22H29NO5_results.csv',\n 'C20H24N4O4S_results.csv',\n 'PubChem_compound_formulaquery_C15H19FN4O2S.csv',\n 'PubChem_compound_formulaquery_C23H21FN6O4S',\n 'PubChem_compound_formulaquery_C20H22N2O4.csv',\n 'PubChem_compound_formulaquery_C19H25N3O3',\n 'C23H32N2O4_results.csv',\n 'C15H16N2O4_results.csv',\n 'PubChem_compound_formulaquery_C19H19ClN4O2S',\n 'C20H16FN3O4S_results.csv',\n 'PubChem_compound_formulaquery_C18H23N3O4.csv',\n 'C20H27N3O3S_results.csv',\n 'PubChem_compound_formulaquery_C20H27N3O3S.csv',\n 'PubChem_compound_formulaquery_C19H22N4O2',\n 'PubChem_compound_formulaquery_C23H28N6O2S.csv',\n 'C21H22ClN3O2_results.csv',\n 'C23H24FN5OS_results.csv',\n 'PubChem_compound_formulaquery_C19H18N4O2.csv',\n 'PubChem_compound_formulaquery_C24H36N4O3.csv',\n 'PubChem_compound_formulaquery_C18H23NO3',\n 'C27H31N3O3S_results.csv',\n 'PubChem_compound_formulaquery_C17H16N2O2S',\n 'PubChem_compound_formulaquery_C18H24N4O3S2.csv',\n 'C10H13N5_results.csv',\n 'PubChem_compound_formulaquery_C23H22N4O.csv',\n 'C16H18FN3O3S_results.csv',\n 'PubChem_compound_formulaquery_C23H24FN5OS',\n 'PubChem_compound_formulaquery_C19H22N4O2.csv',\n 'C16H10ClN5O_results.csv',\n 'PubChem_compound_formulaquery_C31H35NO10.csv',\n 'C20H26N4O3_results.csv',\n 'C24H30FN3O_results.csv',\n 'PubChem_compound_formulaquery_C19H20N2O.csv',\n 'PubChem_compound_formulaquery_C17H14ClN3O2S',\n 'PubChem_compound_formulaquery_C20H27N3O3S',\n 'PubChem_compound_formulaquery_C21H28N2O3.csv',\n 'PubChem_compound_formulaquery_C23H28N6O2S',\n 'PubChem_compound_formulaquery_C19H25N3O3.csv',\n 'PubChem_compound_formulaquery_C16H20N4O3.csv',\n 'C19H18ClN3O3_results.csv',\n 'PubChem_compound_formulaquery_C16H20N4O3',\n 'PubChem_compound_formulaquery_C10H13N5.csv',\n 'PubChem_compound_formulaquery_C24H27N5O2',\n 'PubChem_compound_formulaquery_C15H15N3O3S.csv',\n 'PubChem_compound_formulaquery_C23H24FN5OS.csv',\n 'PubChem_compound_formulaquery_C21H19N5O',\n 'PubChem_compound_formulaquery_C16H10ClN5O.csv',\n 'C21H19N5O_results.csv',\n 'C21H28N2O3_results.csv',\n 'PubChem_compound_formulaquery_C22H21N5O2.csv',\n 'PubChem_compound_formulaquery_C17H27NO3.csv',\n 'C20H21N3O4S_results.csv',\n 'PubChem_compound_formulaquery_C13H22N2O3.csv',\n 'PubChem_compound_formulaquery_C14H13BrN4O',\n 'PubChem_compound_formulaquery_C19H23N3O3',\n 'C9H10N2O2_results.csv',\n 'C22H24FN5O4S_results.csv',\n 'C15H22N2OS_results.csv',\n 'PubChem_compound_formulaquery_C16H16N4O.csv',\n 'C22H21N5O4S_results.csv',\n 'C18H15F2N3O_results.csv',\n 'PubChem_compound_formulaquery_C24H28N4O2',\n 'C20H19ClN2O6_results.csv',\n 'PubChem_compound_formulaquery_C17H16N2O6',\n 'PubChem_compound_formulaquery_C15H22N2OS.csv',\n 'PubChem_compound_formulaquery_C19H18N4O2',\n 'C14H19NO2_results.csv',\n 'PubChem_compound_formulaquery_C24H27N5O2.csv',\n 'PubChem_compound_formulaquery_C20H16N4O4S.csv',\n 'PubChem_compound_formulaquery_C15H21N3O',\n 'PubChem_compound_formulaquery_C15H19FN4O2S',\n 'PubChem_compound_formulaquery_C18H26N4OS.csv',\n 'PubChem_compound_formulaquery_C14H19NO2.csv',\n 'C16H16N4O_results.csv',\n 'C19H20N2O_results.csv',\n 'PubChem_compound_formulaquery_C20H24Br2N2O',\n 'PubChem_compound_formulaquery_C17H16N2O2S.csv',\n 'PubChem_compound_formulaquery_C17H21ClFN3O2.csv',\n 'PubChem_compound_formulaquery_C22H21N5O4S',\n 'PubChem_compound_formulaquery_C20H19N5O2S.csv',\n 'PubChem_compound_formulaquery_C24H33N5O3.csv',\n 'PubChem_compound_formulaquery_C19H25N3O4S',\n 'C16H20N4O3_results.csv',\n 'PubChem_compound_formulaquery_C21H26N4O4S',\n 'PubChem_compound_formulaquery_C18H16FN3OS',\n 'C23H21FN6O4S_results.csv',\n 'PubChem_compound_formulaquery_C20H16N4O4S',\n 'C18H24N4O3S2_results.csv',\n 'C18H16FN3OS_results.csv',\n 'PubChem_compound_formulaquery_C26H27N3O3S.csv',\n 'PubChem_compound_formulaquery_C22H29NO5.csv',\n 'C21H21FN2O4S_results.csv',\n 'PubChem_compound_formulaquery_C21H17N3O2S',\n 'PubChem_compound_formulaquery_C23H32N2O4',\n 'PubChem_compound_formulaquery_C19H20ClN3O',\n 'PubChem_compound_formulaquery_C22H31N3O4',\n 'PubChem_compound_formulaquery_C17H18N4O2S.csv',\n 'PubChem_compound_formulaquery_C15H22N2OS',\n 'PubChem_compound_formulaquery_C21H16FN3O2S.csv',\n 'C24H28N4O2_results.csv',\n 'PubChem_compound_formulaquery_C19H25N3O4S.csv',\n 'PubChem_compound_formulaquery_C21H22ClN3O2',\n 'PubChem_compound_formulaquery_C10H13N5',\n 'PubChem_compound_formulaquery_C15H16N2O4.csv',\n 'C19H22N4O2_results.csv',\n 'PubChem_compound_formulaquery_C9H10N2O2.csv',\n 'PubChem_compound_formulaquery_C27H31N3O3S',\n 'PubChem_compound_formulaquery_C20H19ClN2O6',\n 'PubChem_compound_formulaquery_C20H19N5O3',\n 'C22H23ClFN5O_results.csv',\n 'PubChem_compound_formulaquery_C23H24ClN3O4S',\n 'C22H32FN3O3_results.csv',\n 'PubChem_compound_formulaquery_C16H19N3O2S3.csv',\n 'PubChem_compound_formulaquery_C18H16FN3OS.csv',\n 'C22H22N2O5S_results.csv',\n 'C21H16FN3O2S_results.csv',\n 'PubChem_compound_formulaquery_C10H13N3O3S2.csv',\n 'PubChem_compound_formulaquery_C22H29NO5',\n 'C21H17N3O2S_results.csv',\n 'PubChem_compound_formulaquery_C22H24FN5O4S.csv',\n 'C22H31N3O4_results.csv',\n 'C19H20N2O3_results.csv',\n 'PubChem_compound_formulaquery_C18H23NO3.csv',\n 'C23H17N3O6_results.csv',\n 'PubChem_compound_formulaquery_C19H20N2O3.csv',\n 'C19H20ClN3O_results.csv',\n 'PubChem_compound_formulaquery_C23H22N4O',\n 'C23H31N5O2_results.csv',\n 'C17H16N2O6_results.csv',\n 'PubChem_compound_formulaquery_C24H28N4O3.csv',\n 'C21H26N4O4S_results.csv',\n 'C22H21N5O2_results.csv',\n 'C29H41N3O3_results.csv',\n 'PubChem_compound_formulaquery_C22H31N3O4.csv',\n 'C21H23BrN4O3_results.csv',\n 'PubChem_compound_formulaquery_C18H24N4O3S2',\n 'PubChem_compound_formulaquery_C15H16N2O4',\n 'PubChem_compound_formulaquery_C21H23BrN4O3',\n 'PubChem_compound_formulaquery_C29H41N3O3',\n 'PubChem_compound_formulaquery_C16H18FN3O3S',\n 'PubChem_compound_formulaquery_C16H19N3O2S3',\n 'PubChem_compound_formulaquery_C24H36N4O3',\n 'C18H13N3O4_results.csv',\n 'C21H28ClN5O_results.csv',\n 'PubChem_compound_formulaquery_C19H20ClN3O.csv',\n 'PubChem_compound_formulaquery_C20H23N5O2',\n 'PubChem_compound_formulaquery_C19H18ClN3O3.csv',\n 'PubChem_compound_formulaquery_C21H26N4O4S.csv',\n 'PubChem_compound_formulaquery_C19H15BrN4O.csv',\n 'PubChem_compound_formulaquery_C19H20N2O3',\n 'C26H33N3O4S_results.csv',\n 'PubChem_compound_formulaquery_C14H19NO2',\n 'PubChem_compound_formulaquery_C17H18N4O2S',\n 'C20H24Br2N2O_results.csv',\n 'PubChem_compound_formulaquery_C13H22N2O3',\n 'PubChem_compound_formulaquery_C22H21N5O4S.csv',\n 'C18H26N4OS_results.csv',\n 'PubChem_compound_formulaquery_C21H19N5O.csv',\n 'PubChem_compound_formulaquery_C23H24N6O3',\n 'C27H33N3OS_results.csv',\n 'PubChem_compound_formulaquery_C17H16N2O6.csv',\n 'C20H23N5O2_results.csv',\n 'PubChem_compound_formulaquery_C20H16FN3O4S',\n 'C10H13N3O3S2_results.csv',\n 'PubChem_compound_formulaquery_C18H26N2O2',\n 'PubChem_compound_formulaquery_C24H30FN3O.csv',\n 'PubChem_compound_formulaquery_C20H26N4O3',\n 'C18H26N2O2_results.csv',\n 'PubChem_compound_formulaquery_C18H15FN4O4.csv',\n 'PubChem_compound_formulaquery_C23H21FN6O4S.csv',\n 'C15H19FN4O2S_results.csv',\n 'PubChem_compound_formulaquery_C20H19N5O3.csv',\n 'PubChem_compound_formulaquery_C21H16FN3O2S',\n 'C26H27N3O3S_results.csv',\n 'PubChem_compound_formulaquery_C22H32FN3O3',\n 'C20H22N2O4_results.csv',\n 'C24H27N5O2_results.csv',\n 'C17H22ClFN2O3S_results.csv',\n 'C23H24N6O3_results.csv',\n 'PubChem_compound_formulaquery_C18H23N3O4',\n 'PubChem_compound_formulaquery_C22H22N2O5S.csv',\n 'PubChem_compound_formulaquery_C17H14ClN3O2S.csv',\n 'PubChem_compound_formulaquery_C22H27N3O6S2',\n 'PubChem_compound_formulaquery_C19H20N4O3.csv',\n 'C18H23N3O4_results.csv',\n 'PubChem_compound_formulaquery_C25H29N5O2S',\n 'PubChem_compound_formulaquery_C20H19N5O2S',\n 'PubChem_compound_formulaquery_C23H31N5O2',\n 'PubChem_compound_formulaquery_C29H41N3O3.csv',\n 'PubChem_compound_formulaquery_C16H16N4O',\n 'C17H14ClN3O2S_results.csv',\n 'PubChem_compound_formulaquery_C10H13N3O3S2',\n 'C15H12FN3O2S_results.csv',\n 'C24H28N4O3_results.csv',\n 'PubChem_compound_formulaquery_C21H17N3O2S.csv',\n 'PubChem_compound_formulaquery_C23H17N3O6.csv',\n 'C24H36N4O3_results.csv',\n 'PubChem_compound_formulaquery_C20H16FN3O4S.csv',\n 'PubChem_compound_formulaquery_C21H28ClN5O.csv',\n 'PubChem_compound_formulaquery_C20H23N5O2.csv',\n 'PubChem_compound_formulaquery_C14H13BrN4O.csv',\n 'PubChem_compound_formulaquery_C21H21FN2O4S',\n 'PubChem_compound_formulaquery_C23H24ClN3O4S.csv',\n 'PubChem_compound_formulaquery_C16H10ClN5O',\n 'PubChem_compound_formulaquery_C22H27N3O6S2.csv',\n 'C16H19N3O2S3_results.csv',\n 'C23H22N4O_results.csv',\n 'C19H19ClN4O2S_results.csv',\n 'C17H18N4O2S_results.csv',\n 'PubChem_compound_formulaquery_C27H31N3O3S.csv',\n 'C23H28N6O2S_results.csv',\n 'C15H21N3O_results.csv',\n 'PubChem_compound_formulaquery_C25H29N5O2S.csv',\n 'PubChem_compound_formulaquery_C22H24FN5O4S',\n 'C18H15FN4O4_results.csv',\n 'PubChem_compound_formulaquery_C21H28ClN5O',\n 'C22H27N3O6S2_results.csv',\n 'PubChem_compound_formulaquery_C17H22ClFN2O3S',\n 'C24H33N5O3_results.csv',\n 'PubChem_compound_formulaquery_C23H17N3O6',\n 'PubChem_compound_formulaquery_C22H23ClFN5O.csv',\n 'PubChem_compound_formulaquery_C20H21N3O4S.csv',\n 'PubChem_compound_formulaquery_C21H22ClN3O2.csv',\n 'PubChem_compound_formulaquery_C20H26N4O3.csv',\n 'C17H21ClFN3O2_results.csv',\n 'C19H25N3O4S_results.csv',\n 'C15H15N3O3S_results.csv',\n 'C25H29N5O2S_results.csv',\n 'PubChem_compound_formulaquery_C19H18ClN3O3',\n 'PubChem_compound_formulaquery_C24H28N4O2.csv',\n 'PubChem_compound_formulaquery_C20H21N3O4S',\n 'C14H13BrN4O_results.csv',\n 'PubChem_compound_formulaquery_C16H18FN3O3S.csv',\n 'C20H19N5O3_results.csv',\n 'PubChem_compound_formulaquery_C24H28N4O3',\n 'PubChem_compound_formulaquery_C18H15FN4O4',\n 'PubChem_compound_formulaquery_C20H19ClN2O6.csv',\n 'PubChem_compound_formulaquery_C18H15F2N3O',\n 'PubChem_compound_formulaquery_C23H32N2O4.csv',\n 'C20H19N5O2S_results.csv',\n 'C17H16N2O2S_results.csv',\n 'PubChem_compound_formulaquery_C17H21ClFN3O2',\n 'PubChem_compound_formulaquery_C20H24N4O4S.csv',\n 'PubChem_compound_formulaquery_C15H12FN3O2S',\n 'C19H20N4O3_results.csv',\n 'PubChem_compound_formulaquery_C18H13N3O4.csv',\n 'PubChem_compound_formulaquery_C27H33N3OS',\n 'PubChem_compound_formulaquery_C22H23ClFN5O',\n 'PubChem_compound_formulaquery_C22H32FN3O3.csv',\n 'C20H16N4O4S_results.csv',\n 'C19H15BrN4O_results.csv',\n 'PubChem_compound_formulaquery_C24H30FN3O',\n 'PubChem_compound_formulaquery_C31H35NO10',\n 'PubChem_compound_formulaquery_C18H15F2N3O.csv',\n 'PubChem_compound_formulaquery_C21H23BrN4O3.csv',\n 'PubChem_compound_formulaquery_C21H21FN2O4S.csv',\n 'PubChem_compound_formulaquery_C19H23N3O3.csv',\n 'PubChem_compound_formulaquery_C23H24N6O3.csv',\n 'PubChem_compound_formulaquery_C20H24Br2N2O.csv',\n 'C19H18N4O2_results.csv',\n 'PubChem_compound_formulaquery_C26H33N3O4S',\n 'PubChem_compound_formulaquery_C21H28N2O3',\n 'PubChem_compound_formulaquery_C15H12FN3O2S.csv',\n 'PubChem_compound_formulaquery_C9H10N2O2',\n 'PubChem_compound_formulaquery_C20H24N4O4S',\n 'PubChem_compound_formulaquery_C17H22ClFN2O3S.csv',\n 'C19H23N3O3_results.csv',\n 'PubChem_compound_formulaquery_C23H31N5O2.csv',\n 'PubChem_compound_formulaquery_C22H22N2O5S',\n 'PubChem_compound_formulaquery_C15H21N3O.csv',\n 'C31H35NO10_results.csv',\n 'PubChem_compound_formulaquery_C20H22N2O4',\n 'PubChem_compound_formulaquery_C19H15BrN4O',\n 'PubChem_compound_formulaquery_C26H27N3O3S',\n 'PubChem_compound_formulaquery_C27H33N3OS.csv',\n 'C13H22N2O3_results.csv']"
     },
     "execution_count": 36,
     "metadata": {},
     "output_type": "execute_result"
    }
   ],
   "source": [
    "listdir"
   ],
   "metadata": {
    "collapsed": false,
    "pycharm": {
     "name": "#%%\n"
    }
   }
  },
  {
   "cell_type": "code",
   "execution_count": 37,
   "outputs": [
    {
     "data": {
      "text/plain": "['C17H27NO3_results.csv',\n 'C23H24ClN3O4S_results.csv',\n 'C18H23NO3_results.csv',\n 'C19H25N3O3_results.csv',\n 'C22H29NO5_results.csv',\n 'C20H24N4O4S_results.csv',\n 'C23H32N2O4_results.csv',\n 'C15H16N2O4_results.csv',\n 'C20H16FN3O4S_results.csv',\n 'C20H27N3O3S_results.csv',\n 'C21H22ClN3O2_results.csv',\n 'C23H24FN5OS_results.csv',\n 'C27H31N3O3S_results.csv',\n 'C10H13N5_results.csv',\n 'C16H18FN3O3S_results.csv',\n 'C16H10ClN5O_results.csv',\n 'C20H26N4O3_results.csv',\n 'C24H30FN3O_results.csv',\n 'C19H18ClN3O3_results.csv',\n 'C21H19N5O_results.csv',\n 'C21H28N2O3_results.csv',\n 'C20H21N3O4S_results.csv',\n 'C9H10N2O2_results.csv',\n 'C22H24FN5O4S_results.csv',\n 'C15H22N2OS_results.csv',\n 'C22H21N5O4S_results.csv',\n 'C18H15F2N3O_results.csv',\n 'C20H19ClN2O6_results.csv',\n 'C14H19NO2_results.csv',\n 'C16H16N4O_results.csv',\n 'C19H20N2O_results.csv',\n 'C16H20N4O3_results.csv',\n 'C23H21FN6O4S_results.csv',\n 'C18H24N4O3S2_results.csv',\n 'C18H16FN3OS_results.csv',\n 'C21H21FN2O4S_results.csv',\n 'C24H28N4O2_results.csv',\n 'C19H22N4O2_results.csv',\n 'C22H23ClFN5O_results.csv',\n 'C22H32FN3O3_results.csv',\n 'C22H22N2O5S_results.csv',\n 'C21H16FN3O2S_results.csv',\n 'C21H17N3O2S_results.csv',\n 'C22H31N3O4_results.csv',\n 'C19H20N2O3_results.csv',\n 'C23H17N3O6_results.csv',\n 'C19H20ClN3O_results.csv',\n 'C23H31N5O2_results.csv',\n 'C17H16N2O6_results.csv',\n 'C21H26N4O4S_results.csv',\n 'C22H21N5O2_results.csv',\n 'C29H41N3O3_results.csv',\n 'C21H23BrN4O3_results.csv',\n 'C18H13N3O4_results.csv',\n 'C21H28ClN5O_results.csv',\n 'C26H33N3O4S_results.csv',\n 'C20H24Br2N2O_results.csv',\n 'C18H26N4OS_results.csv',\n 'C27H33N3OS_results.csv',\n 'C20H23N5O2_results.csv',\n 'C10H13N3O3S2_results.csv',\n 'C18H26N2O2_results.csv',\n 'C15H19FN4O2S_results.csv',\n 'C26H27N3O3S_results.csv',\n 'C20H22N2O4_results.csv',\n 'C24H27N5O2_results.csv',\n 'C17H22ClFN2O3S_results.csv',\n 'C23H24N6O3_results.csv',\n 'C18H23N3O4_results.csv',\n 'C17H14ClN3O2S_results.csv',\n 'C15H12FN3O2S_results.csv',\n 'C24H28N4O3_results.csv',\n 'C24H36N4O3_results.csv',\n 'C16H19N3O2S3_results.csv',\n 'C23H22N4O_results.csv',\n 'C19H19ClN4O2S_results.csv',\n 'C17H18N4O2S_results.csv',\n 'C23H28N6O2S_results.csv',\n 'C15H21N3O_results.csv',\n 'C18H15FN4O4_results.csv',\n 'C22H27N3O6S2_results.csv',\n 'C24H33N5O3_results.csv',\n 'C17H21ClFN3O2_results.csv',\n 'C19H25N3O4S_results.csv',\n 'C15H15N3O3S_results.csv',\n 'C25H29N5O2S_results.csv',\n 'C14H13BrN4O_results.csv',\n 'C20H19N5O3_results.csv',\n 'C20H19N5O2S_results.csv',\n 'C17H16N2O2S_results.csv',\n 'C19H20N4O3_results.csv',\n 'C20H16N4O4S_results.csv',\n 'C19H15BrN4O_results.csv',\n 'C19H18N4O2_results.csv',\n 'C19H23N3O3_results.csv',\n 'C31H35NO10_results.csv',\n 'C13H22N2O3_results.csv']"
     },
     "execution_count": 37,
     "metadata": {},
     "output_type": "execute_result"
    }
   ],
   "source": [
    "results = []\n",
    "for name in listdir:\n",
    "    if 'result' in name:\n",
    "        results.append(name)\n",
    "\n",
    "results"
   ],
   "metadata": {
    "collapsed": false,
    "pycharm": {
     "name": "#%%\n"
    }
   }
  },
  {
   "cell_type": "code",
   "execution_count": 39,
   "outputs": [],
   "source": [
    "csv = pd.read_csv(os.path.join('search_form_pubchem',results[0]))"
   ],
   "metadata": {
    "collapsed": false,
    "pycharm": {
     "name": "#%%\n"
    }
   }
  },
  {
   "cell_type": "code",
   "execution_count": 40,
   "outputs": [
    {
     "data": {
      "text/plain": "                                                   inchi     pred_rt\n0      InChI=1S/C17H27NO3/c1-4-12-21-15-8-6-14(7-9-15...  779.877686\n1      InChI=1S/C17H27NO3/c19-16(10-9-12-5-1-2-6-12)1...  873.593933\n2      InChI=1S/C17H27NO3/c1-13(2)14-7-9-15(10-8-14)2...  931.753357\n3      InChI=1S/C17H27NO3/c1-13-7-14(2)9-16(8-13)20-1...  686.536499\n4      InChI=1S/C17H27NO3/c1-11(2)15(17(3,4)5)16(20)1...  776.887695\n...                                                  ...         ...\n13281  InChI=1S/C17H27NO3/c1-2-20-17-14-8-9-15(17)21-...  826.511353\n13282  InChI=1S/C17H27NO3/c1-13(18-12-17(2)7-9-21-10-...  586.212830\n13283  InChI=1S/C17H27NO3/c1-12(2)11-21-14-9-7-13(8-1...  793.371338\n13284  InChI=1S/C17H27NO3/c1-12(2)21-10-6-9-18-14(4)1...  671.609314\n13285  InChI=1S/C17H27NO3/c1-6-20-16(19)17(18-5,12-21...  888.769104\n\n[13286 rows x 2 columns]",
      "text/html": "<div>\n<style scoped>\n    .dataframe tbody tr th:only-of-type {\n        vertical-align: middle;\n    }\n\n    .dataframe tbody tr th {\n        vertical-align: top;\n    }\n\n    .dataframe thead th {\n        text-align: right;\n    }\n</style>\n<table border=\"1\" class=\"dataframe\">\n  <thead>\n    <tr style=\"text-align: right;\">\n      <th></th>\n      <th>inchi</th>\n      <th>pred_rt</th>\n    </tr>\n  </thead>\n  <tbody>\n    <tr>\n      <th>0</th>\n      <td>InChI=1S/C17H27NO3/c1-4-12-21-15-8-6-14(7-9-15...</td>\n      <td>779.877686</td>\n    </tr>\n    <tr>\n      <th>1</th>\n      <td>InChI=1S/C17H27NO3/c19-16(10-9-12-5-1-2-6-12)1...</td>\n      <td>873.593933</td>\n    </tr>\n    <tr>\n      <th>2</th>\n      <td>InChI=1S/C17H27NO3/c1-13(2)14-7-9-15(10-8-14)2...</td>\n      <td>931.753357</td>\n    </tr>\n    <tr>\n      <th>3</th>\n      <td>InChI=1S/C17H27NO3/c1-13-7-14(2)9-16(8-13)20-1...</td>\n      <td>686.536499</td>\n    </tr>\n    <tr>\n      <th>4</th>\n      <td>InChI=1S/C17H27NO3/c1-11(2)15(17(3,4)5)16(20)1...</td>\n      <td>776.887695</td>\n    </tr>\n    <tr>\n      <th>...</th>\n      <td>...</td>\n      <td>...</td>\n    </tr>\n    <tr>\n      <th>13281</th>\n      <td>InChI=1S/C17H27NO3/c1-2-20-17-14-8-9-15(17)21-...</td>\n      <td>826.511353</td>\n    </tr>\n    <tr>\n      <th>13282</th>\n      <td>InChI=1S/C17H27NO3/c1-13(18-12-17(2)7-9-21-10-...</td>\n      <td>586.212830</td>\n    </tr>\n    <tr>\n      <th>13283</th>\n      <td>InChI=1S/C17H27NO3/c1-12(2)11-21-14-9-7-13(8-1...</td>\n      <td>793.371338</td>\n    </tr>\n    <tr>\n      <th>13284</th>\n      <td>InChI=1S/C17H27NO3/c1-12(2)21-10-6-9-18-14(4)1...</td>\n      <td>671.609314</td>\n    </tr>\n    <tr>\n      <th>13285</th>\n      <td>InChI=1S/C17H27NO3/c1-6-20-16(19)17(18-5,12-21...</td>\n      <td>888.769104</td>\n    </tr>\n  </tbody>\n</table>\n<p>13286 rows × 2 columns</p>\n</div>"
     },
     "execution_count": 40,
     "metadata": {},
     "output_type": "execute_result"
    }
   ],
   "source": [
    "csv"
   ],
   "metadata": {
    "collapsed": false,
    "pycharm": {
     "name": "#%%\n"
    }
   }
  },
  {
   "cell_type": "code",
   "execution_count": 2,
   "outputs": [],
   "source": [
    "torch.manual_seed(1234)\n",
    "dataset = SMRTDatasetRetained('./SMRT_Retain')\n",
    "# dataset = MassBank1Dataset('./MassBank1Dataset/')\n",
    "train_len = int(dataset.__len__() * 0.9)\n",
    "test_len = dataset.__len__() - train_len\n",
    "train_dataset, test_dataset = random_split(dataset, [train_len, test_len])\n",
    "\n",
    "train_len_2 = int(train_len * 0.9)\n",
    "dev_len = train_len - train_len_2\n",
    "train_dataset, dev_data_set = random_split(train_dataset, [train_len_2, dev_len])\n",
    "selected, no_selected = random_split(test_dataset, [100, len(test_dataset) - 100])\n",
    "\n",
    "no_s = np.array([selected[0].fingerprint.numpy()])\n",
    "for i in range(len(no_selected)):\n",
    "    # no_s.loc[i,'SMRT'] = no_selected[i].formula\n",
    "    no_s = np.append(no_s, [no_selected[i].fingerprint.numpy()], axis=0)\n",
    "\n",
    "yes_s = np.array([selected[0].fingerprint.numpy()])\n",
    "for i in range(len(selected)):\n",
    "    # no_s.loc[i,'SMRT'] = no_selected[i].formula\n",
    "    yes_s = np.append(yes_s, [selected[i].fingerprint.numpy()], axis=0)\n"
   ],
   "metadata": {
    "collapsed": false,
    "pycharm": {
     "name": "#%%\n"
    }
   }
  },
  {
   "cell_type": "code",
   "execution_count": 3,
   "outputs": [
    {
     "data": {
      "text/plain": "Data(x=[37, 34], edge_index=[2, 78], edge_attr=[78, 5], y=[1], fingerprint=[2048], inchi='InChI=1S/C16H16N4O/c1-2-20-15-9-4-3-7-12(15)14(19-20)11-18-16(21)13-8-5-6-10-17-13/h3-10H,2,11H2,1H3,(H,18,21)', formula='C16H16N4O')"
     },
     "execution_count": 3,
     "metadata": {},
     "output_type": "execute_result"
    }
   ],
   "source": [
    "selected[0]"
   ],
   "metadata": {
    "collapsed": false,
    "pycharm": {
     "name": "#%%\n"
    }
   }
  },
  {
   "cell_type": "code",
   "execution_count": 7,
   "outputs": [],
   "source": [
    "import pandas as pd"
   ],
   "metadata": {
    "collapsed": false,
    "pycharm": {
     "name": "#%%\n"
    }
   }
  },
  {
   "cell_type": "code",
   "execution_count": 10,
   "outputs": [],
   "source": [
    "read_csv = pd.read_csv(os.path.join('search_form_pubchem', f'{selected[0].formula}_results.csv'))"
   ],
   "metadata": {
    "collapsed": false,
    "pycharm": {
     "name": "#%%\n"
    }
   }
  },
  {
   "cell_type": "code",
   "execution_count": 39,
   "outputs": [
    {
     "data": {
      "text/plain": "7505"
     },
     "execution_count": 39,
     "metadata": {},
     "output_type": "execute_result"
    }
   ],
   "source": [
    "(abs(read_csv['pred_rt']-selected[0].y.cpu().numpy())>60).value_counts()[True]\n"
   ],
   "metadata": {
    "collapsed": false,
    "pycharm": {
     "name": "#%%\n"
    }
   }
  },
  {
   "cell_type": "code",
   "execution_count": 40,
   "outputs": [
    {
     "data": {
      "text/plain": "(8896, 0.8436375899280576)"
     },
     "execution_count": 40,
     "metadata": {},
     "output_type": "execute_result"
    }
   ],
   "source": [
    "len(read_csv),(abs(read_csv['pred_rt']-selected[0].y.cpu().numpy())>60).value_counts()[True]/len(read_csv)"
   ],
   "metadata": {
    "collapsed": false,
    "pycharm": {
     "name": "#%%\n"
    }
   }
  },
  {
   "cell_type": "code",
   "execution_count": 30,
   "outputs": [
    {
     "data": {
      "text/plain": "0       -83.014832\n1       -98.148254\n2       -14.031433\n3      -107.423645\n4      -169.210876\n           ...    \n8891   -107.103638\n8892   -222.499634\n8893     29.307068\n8894    -70.106812\n8895     68.219360\nName: pred_rt, Length: 8896, dtype: float64"
     },
     "execution_count": 30,
     "metadata": {},
     "output_type": "execute_result"
    }
   ],
   "source": [
    "read_csv['pred_rt']-selected[0].y.cpu().numpy()"
   ],
   "metadata": {
    "collapsed": false,
    "pycharm": {
     "name": "#%%\n"
    }
   }
  },
  {
   "cell_type": "code",
   "execution_count": 33,
   "outputs": [],
   "source": [
    "inchis = read_csv[abs(read_csv['pred_rt']-selected[0].y.cpu().numpy())<=60]['inchi']"
   ],
   "metadata": {
    "collapsed": false,
    "pycharm": {
     "name": "#%%\n"
    }
   }
  },
  {
   "cell_type": "code",
   "execution_count": 38,
   "outputs": [
    {
     "name": "stdout",
     "output_type": "stream",
     "text": [
      "成功筛选\n"
     ]
    }
   ],
   "source": [
    "for inchi in inchis:\n",
    "    if selected[0].inchi == inchi:\n",
    "        print('成功筛选')"
   ],
   "metadata": {
    "collapsed": false,
    "pycharm": {
     "name": "#%%\n"
    }
   }
  },
  {
   "cell_type": "code",
   "execution_count": 42,
   "outputs": [
    {
     "name": "stdout",
     "output_type": "stream",
     "text": [
      "成功筛选\n"
     ]
    }
   ],
   "source": [
    "data = selected[0]\n",
    "threshold = 60\n",
    "\n",
    "read_csv = pd.read_csv(os.path.join('search_form_pubchem', f'{data.formula}_results.csv'))\n",
    "filter_num = (abs(read_csv['pred_rt'] - selected[0].y.cpu().numpy()) > threshold).value_counts()[True]\n",
    "all_num = len(read_csv)\n",
    "is_select = False\n",
    "inchis = read_csv[abs(read_csv['pred_rt'] - selected[0].y.cpu().numpy()) <= threshold]['inchi']\n",
    "for inchi in inchis:\n",
    "    if selected[0].inchi == inchi:\n",
    "        print('成功筛选')\n",
    "        is_select = True"
   ],
   "metadata": {
    "collapsed": false,
    "pycharm": {
     "name": "#%%\n"
    }
   }
  },
  {
   "cell_type": "code",
   "execution_count": 73,
   "outputs": [],
   "source": [
    "frame = pd.DataFrame(columns=[\n",
    "                              # 'inchi',\n",
    "                              'formula',\n",
    "                              'experimental RT',\n",
    "                              'Num of candidates searched from PubChem',\n",
    "                              'Num of candidates filtered by RT-Transformer',\n",
    "                              'Rate of candidates filtered',\n",
    "                              'candidate is filtered out'\n",
    "                              ])"
   ],
   "metadata": {
    "collapsed": false,
    "pycharm": {
     "name": "#%%\n"
    }
   }
  },
  {
   "cell_type": "code",
   "execution_count": 95,
   "outputs": [
    {
     "data": {
      "text/plain": "formula                                          C16H16N4O\nexperimental RT                                 796.299988\nNum of candidates searched from PubChem               8896\nNum of candidates filtered by RT-Transformer          7505\nRate of candidates filtered                      84.363759\ncandidate is filtered out                             True\ndtype: object"
     },
     "execution_count": 95,
     "metadata": {},
     "output_type": "execute_result"
    }
   ],
   "source": [
    "series = pd.Series(\n",
    "    {\n",
    "    # 'inchi':data.inchi,\n",
    "    'formula':data.formula,\n",
    "    'experimental RT':data.y.cpu().numpy().item(),\n",
    "    'Num of candidates searched from PubChem':all_num,\n",
    "    'Num of candidates filtered by RT-Transformer':filter_num,\n",
    "    'Rate of candidates filtered':filter_num/all_num*100,\n",
    "    'candidate is filtered out':is_select,\n",
    "    }\n",
    ")\n",
    "series"
   ],
   "metadata": {
    "collapsed": false,
    "pycharm": {
     "name": "#%%\n"
    }
   }
  },
  {
   "cell_type": "code",
   "execution_count": 100,
   "outputs": [],
   "source": [
    "frame = frame.append(series,ignore_index=True)"
   ],
   "metadata": {
    "collapsed": false,
    "pycharm": {
     "name": "#%%\n"
    }
   }
  },
  {
   "cell_type": "code",
   "execution_count": 101,
   "outputs": [
    {
     "data": {
      "text/plain": "     formula  experimental RT Num of candidates searched from PubChem  \\\n0  C16H16N4O       796.299988                                    8896   \n1  C16H16N4O       796.299988                                    8896   \n\n  Num of candidates filtered by RT-Transformer  Rate of candidates filtered  \\\n0                                         7505                    84.363759   \n1                                         7505                    84.363759   \n\n  candidate is filtered out  \n0                      True  \n1                      True  ",
      "text/html": "<div>\n<style scoped>\n    .dataframe tbody tr th:only-of-type {\n        vertical-align: middle;\n    }\n\n    .dataframe tbody tr th {\n        vertical-align: top;\n    }\n\n    .dataframe thead th {\n        text-align: right;\n    }\n</style>\n<table border=\"1\" class=\"dataframe\">\n  <thead>\n    <tr style=\"text-align: right;\">\n      <th></th>\n      <th>formula</th>\n      <th>experimental RT</th>\n      <th>Num of candidates searched from PubChem</th>\n      <th>Num of candidates filtered by RT-Transformer</th>\n      <th>Rate of candidates filtered</th>\n      <th>candidate is filtered out</th>\n    </tr>\n  </thead>\n  <tbody>\n    <tr>\n      <th>0</th>\n      <td>C16H16N4O</td>\n      <td>796.299988</td>\n      <td>8896</td>\n      <td>7505</td>\n      <td>84.363759</td>\n      <td>True</td>\n    </tr>\n    <tr>\n      <th>1</th>\n      <td>C16H16N4O</td>\n      <td>796.299988</td>\n      <td>8896</td>\n      <td>7505</td>\n      <td>84.363759</td>\n      <td>True</td>\n    </tr>\n  </tbody>\n</table>\n</div>"
     },
     "execution_count": 101,
     "metadata": {},
     "output_type": "execute_result"
    }
   ],
   "source": [
    "frame"
   ],
   "metadata": {
    "collapsed": false,
    "pycharm": {
     "name": "#%%\n"
    }
   }
  },
  {
   "cell_type": "code",
   "execution_count": null,
   "outputs": [],
   "source": [],
   "metadata": {
    "collapsed": false,
    "pycharm": {
     "name": "#%%\n"
    }
   }
  },
  {
   "cell_type": "code",
   "execution_count": null,
   "outputs": [],
   "source": [],
   "metadata": {
    "collapsed": false,
    "pycharm": {
     "name": "#%%\n"
    }
   }
  },
  {
   "cell_type": "code",
   "execution_count": null,
   "outputs": [],
   "source": [],
   "metadata": {
    "collapsed": false,
    "pycharm": {
     "name": "#%%\n"
    }
   }
  },
  {
   "cell_type": "code",
   "execution_count": null,
   "outputs": [],
   "source": [],
   "metadata": {
    "collapsed": false,
    "pycharm": {
     "name": "#%%\n"
    }
   }
  },
  {
   "cell_type": "code",
   "execution_count": null,
   "outputs": [],
   "source": [],
   "metadata": {
    "collapsed": false,
    "pycharm": {
     "name": "#%%\n"
    }
   }
  },
  {
   "cell_type": "code",
   "execution_count": null,
   "outputs": [],
   "source": [],
   "metadata": {
    "collapsed": false,
    "pycharm": {
     "name": "#%%\n"
    }
   }
  },
  {
   "cell_type": "code",
   "execution_count": null,
   "outputs": [],
   "source": [],
   "metadata": {
    "collapsed": false,
    "pycharm": {
     "name": "#%%\n"
    }
   }
  },
  {
   "cell_type": "code",
   "execution_count": null,
   "outputs": [],
   "source": [],
   "metadata": {
    "collapsed": false,
    "pycharm": {
     "name": "#%%\n"
    }
   }
  },
  {
   "cell_type": "code",
   "execution_count": null,
   "outputs": [],
   "source": [],
   "metadata": {
    "collapsed": false,
    "pycharm": {
     "name": "#%%\n"
    }
   }
  },
  {
   "cell_type": "code",
   "execution_count": null,
   "outputs": [],
   "source": [],
   "metadata": {
    "collapsed": false,
    "pycharm": {
     "name": "#%%\n"
    }
   }
  },
  {
   "cell_type": "code",
   "execution_count": null,
   "outputs": [],
   "source": [],
   "metadata": {
    "collapsed": false,
    "pycharm": {
     "name": "#%%\n"
    }
   }
  },
  {
   "cell_type": "code",
   "execution_count": null,
   "outputs": [],
   "source": [],
   "metadata": {
    "collapsed": false,
    "pycharm": {
     "name": "#%%\n"
    }
   }
  },
  {
   "cell_type": "code",
   "execution_count": null,
   "outputs": [],
   "source": [],
   "metadata": {
    "collapsed": false,
    "pycharm": {
     "name": "#%%\n"
    }
   }
  },
  {
   "cell_type": "code",
   "execution_count": null,
   "outputs": [],
   "source": [],
   "metadata": {
    "collapsed": false,
    "pycharm": {
     "name": "#%%\n"
    }
   }
  },
  {
   "cell_type": "code",
   "execution_count": null,
   "outputs": [],
   "source": [],
   "metadata": {
    "collapsed": false,
    "pycharm": {
     "name": "#%%\n"
    }
   }
  },
  {
   "cell_type": "code",
   "execution_count": null,
   "outputs": [],
   "source": [],
   "metadata": {
    "collapsed": false,
    "pycharm": {
     "name": "#%%\n"
    }
   }
  },
  {
   "cell_type": "code",
   "execution_count": null,
   "outputs": [],
   "source": [],
   "metadata": {
    "collapsed": false,
    "pycharm": {
     "name": "#%%\n"
    }
   }
  },
  {
   "cell_type": "code",
   "execution_count": null,
   "outputs": [],
   "source": [],
   "metadata": {
    "collapsed": false,
    "pycharm": {
     "name": "#%%\n"
    }
   }
  }
 ],
 "metadata": {
  "kernelspec": {
   "display_name": "Python 3",
   "language": "python",
   "name": "python3"
  },
  "language_info": {
   "codemirror_mode": {
    "name": "ipython",
    "version": 2
   },
   "file_extension": ".py",
   "mimetype": "text/x-python",
   "name": "python",
   "nbconvert_exporter": "python",
   "pygments_lexer": "ipython2",
   "version": "2.7.6"
  }
 },
 "nbformat": 4,
 "nbformat_minor": 0
}
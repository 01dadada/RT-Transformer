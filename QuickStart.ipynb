{
 "cells": [
  {
   "cell_type": "markdown",
   "metadata": {},
   "source": [
    "# How To Predict Rention Time in Your Data"
   ]
  },
  {
   "cell_type": "markdown",
   "metadata": {},
   "source": [
    "## 1. Load Data"
   ]
  },
  {
   "cell_type": "code",
   "execution_count": 2,
   "metadata": {},
   "outputs": [],
   "source": [
    "from rdkit import Chem\n",
    "import pandas as pd\n",
    "\n",
    "your_file_name = 'your_file_name'\n",
    "\n",
    "# load .sdf Molecle file \n",
    "sup = Chem.SDMolSupplier(your_file_name)\n",
    "mol_list = list(sup)\n",
    "# load .csv file\n",
    "inchi_list = pd.read_csv(your_file_name)['InChI']\n",
    "mol_list = [Chem.MolFromInchi(inchi) for inchi in inchi_list]"
   ]
  },
  {
   "cell_type": "markdown",
   "metadata": {},
   "source": [
    "## 2. Preprocess Data"
   ]
  },
  {
   "cell_type": "code",
   "execution_count": null,
   "metadata": {},
   "outputs": [],
   "source": [
    "from transferDataset import get_data_list\n",
    "\n",
    "data_list = get_data_list(mol_list)"
   ]
  },
  {
   "cell_type": "markdown",
   "metadata": {},
   "source": [
    "## 3. Predict RT for Molecules"
   ]
  },
  {
   "cell_type": "code",
   "execution_count": null,
   "metadata": {},
   "outputs": [],
   "source": [
    "import pandas as pd\n",
    "\n",
    "predict_rt_list = []\n",
    "df = pd.DataFrame(columns=['InChI','Predicted RT'])\n",
    "\n",
    "loader = DataLoader(data_list,batch_size=1)\n",
    "for idx,batch in enumerate(loader):\n",
    "    df.loc[len(df)] = [inchi_list[idx],model(batch).item()]"
   ]
  },
  {
   "cell_type": "markdown",
   "metadata": {},
   "source": [
    "## 4. Save Predictions to CSV File"
   ]
  },
  {
   "cell_type": "code",
   "execution_count": null,
   "metadata": {},
   "outputs": [],
   "source": [
    "save_path = 'your path'\n",
    "df.to_csv(save_path)"
   ]
  }
 ],
 "metadata": {
  "kernelspec": {
   "display_name": "Python 3.9.17 ('torch2')",
   "language": "python",
   "name": "python3"
  },
  "language_info": {
   "codemirror_mode": {
    "name": "ipython",
    "version": 3
   },
   "file_extension": ".py",
   "mimetype": "text/x-python",
   "name": "python",
   "nbconvert_exporter": "python",
   "pygments_lexer": "ipython3",
   "version": "3.9.17"
  },
  "orig_nbformat": 4,
  "vscode": {
   "interpreter": {
    "hash": "93448f9026e177785da265cd298901689baa4a8d3848031eb193fce9bb4cdc1c"
   }
  }
 },
 "nbformat": 4,
 "nbformat_minor": 2
}
